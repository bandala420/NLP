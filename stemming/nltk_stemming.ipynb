{
 "cells": [
  {
   "cell_type": "code",
   "execution_count": 1,
   "id": "224b9859-36bf-4b33-b9e9-dc48347d9194",
   "metadata": {},
   "outputs": [],
   "source": [
    "# Daniel Bandala @ sep 2022\n",
    "from nltk import download\n",
    "from nltk.stem import PorterStemmer\n",
    "from nltk.stem import LancasterStemmer\n",
    "from nltk.tokenize import word_tokenize, sent_tokenize"
   ]
  },
  {
   "cell_type": "markdown",
   "id": "f8c2d2ca",
   "metadata": {},
   "source": [
    "# Stemming\n",
    "In linguistic morphology and information retrieval, stemming is the process of reducing inflected, or sometimes derived, words to their word stem, base or root form, generally a written word form. The stem need not be identical to the morphological root of the word; it is usually sufficient that related words map to the same stem, even if this stem is not in itself a valid root. Algorithms for stemming have been studied in computer science since the 1960s. Many search engines treat words with the same stem as synonyms as a kind of query expansion, a process called conflation.\n",
    "\n",
    "The Porter stemming algorithm, or ‘Porter stemmer’, is a process for removing the commoner morphological and inflexional endings from words in English. Its main use is as part of a term normalisation process that is usually done when setting up Information Retrieval systems."
   ]
  },
  {
   "cell_type": "code",
   "execution_count": 2,
   "id": "db63de4a-2f16-40de-96ed-f0e7365bb342",
   "metadata": {},
   "outputs": [],
   "source": [
    "ps = PorterStemmer()\n",
    "lc=LancasterStemmer()"
   ]
  },
  {
   "cell_type": "code",
   "execution_count": 3,
   "id": "2939ab3a-3425-434f-87aa-24f4a7ebcd04",
   "metadata": {},
   "outputs": [],
   "source": [
    "# choose some words to be stemmed\n",
    "words = [\"program\", \"programs\", \"programmer\", \"programming\", \"programmers\"]"
   ]
  },
  {
   "cell_type": "code",
   "execution_count": 4,
   "id": "16dc17f7-e9ac-4da2-8560-5607aae2f961",
   "metadata": {},
   "outputs": [
    {
     "name": "stdout",
     "output_type": "stream",
     "text": [
      "program  :  program\n",
      "programs  :  program\n",
      "programmer  :  programm\n",
      "programming  :  program\n",
      "programmers  :  programm\n"
     ]
    }
   ],
   "source": [
    "for w in words:\n",
    "    print(w, \" : \", ps.stem(w))"
   ]
  },
  {
   "cell_type": "code",
   "execution_count": 5,
   "id": "1e4da859-90c4-4fd1-b46d-210050de9a23",
   "metadata": {},
   "outputs": [
    {
     "name": "stdout",
     "output_type": "stream",
     "text": [
      "Porter Stemmer\n",
      "cat\n",
      "troubl\n",
      "troubl\n",
      "troubl\n",
      "\n",
      "Lancaster Stemmer\n",
      "cat\n",
      "troubl\n",
      "troubl\n",
      "troubl\n"
     ]
    }
   ],
   "source": [
    "print(\"Porter Stemmer\")\n",
    "print(ps.stem(\"cats\"))\n",
    "print(ps.stem(\"trouble\"))\n",
    "print(ps.stem(\"troubling\"))\n",
    "print(ps.stem(\"troubled\"))\n",
    "print(\"\\nLancaster Stemmer\")\n",
    "print(ps.stem(\"cats\"))\n",
    "print(ps.stem(\"trouble\"))\n",
    "print(ps.stem(\"troubling\"))\n",
    "print(ps.stem(\"troubled\"))"
   ]
  },
  {
   "cell_type": "code",
   "execution_count": 6,
   "id": "444e0e5c-b734-43bc-aa11-b29d854fbda0",
   "metadata": {},
   "outputs": [
    {
     "name": "stdout",
     "output_type": "stream",
     "text": [
      "Word                Porter Stemmer      lancaster Stemmer   \n",
      "friend              friend              friend              \n",
      "friendship          friendship          friend              \n",
      "friends             friend              friend              \n",
      "friendships         friendship          friend              \n",
      "stabil              stabil              stabl               \n",
      "destabilize         destabil            dest                \n",
      "misunderstanding    misunderstand       misunderstand       \n",
      "railroad            railroad            railroad            \n",
      "moonlight           moonlight           moonlight           \n",
      "football            footbal             footbal             \n"
     ]
    }
   ],
   "source": [
    "#A list of words to be stemmed\n",
    "word_list = [\"friend\", \"friendship\", \"friends\", \"friendships\",\"stabil\",\"destabilize\",\"misunderstanding\",\"railroad\",\"moonlight\",\"football\"]\n",
    "print(\"{0:20}{1:20}{2:20}\".format(\"Word\",\"Porter Stemmer\",\"lancaster Stemmer\"))\n",
    "for word in word_list:\n",
    "    print(\"{0:20}{1:20}{2:20}\".format(word,ps.stem(word),lc.stem(word)))"
   ]
  },
  {
   "cell_type": "code",
   "execution_count": 10,
   "id": "a65da9e6-3679-4eba-90e3-786e5804246a",
   "metadata": {},
   "outputs": [],
   "source": [
    "def stemSentence(sentence):\n",
    "    #token_words=word_tokenize(sentence)\n",
    "    #token_words\n",
    "    stem_sentence=[]\n",
    "    #for word in token_words:\n",
    "    for word in sentence.split():\n",
    "        stem_sentence.append(word+\" - \"+ps.stem(word))\n",
    "        stem_sentence.append(\"\\n\")\n",
    "    return \"\".join(stem_sentence)"
   ]
  },
  {
   "cell_type": "code",
   "execution_count": 8,
   "id": "76dd8293-f899-44ab-ac5c-21568fb4de46",
   "metadata": {},
   "outputs": [
    {
     "data": {
      "text/plain": [
       "'we have alluded to the idea that mri is based on the interaction of nuclear spin with an external magnetic field.'"
      ]
     },
     "execution_count": 8,
     "metadata": {},
     "output_type": "execute_result"
    }
   ],
   "source": [
    "sentence=\"We have alluded to the idea that MRI is based on the interaction of nuclear spin with an external magnetic field.\"\n",
    "ps.stem(sentence)"
   ]
  },
  {
   "cell_type": "code",
   "execution_count": 23,
   "id": "f5d322d5-1f63-4d5d-bee7-b75c3a1de9b8",
   "metadata": {},
   "outputs": [
    {
     "name": "stdout",
     "output_type": "stream",
     "text": [
      "showing info https://raw.githubusercontent.com/nltk/nltk_data/gh-pages/index.xml\n"
     ]
    },
    {
     "data": {
      "text/plain": [
       "True"
      ]
     },
     "execution_count": 23,
     "metadata": {},
     "output_type": "execute_result"
    }
   ],
   "source": [
    "#call the nltk downloader\n",
    "download()"
   ]
  },
  {
   "cell_type": "code",
   "execution_count": 11,
   "id": "498e79b3-0040-44f1-ae74-72429ad2b40e",
   "metadata": {},
   "outputs": [
    {
     "name": "stdout",
     "output_type": "stream",
     "text": [
      "We - we\n",
      "have - have\n",
      "alluded - allud\n",
      "to - to\n",
      "the - the\n",
      "idea - idea\n",
      "that - that\n",
      "MRI - mri\n",
      "is - is\n",
      "based - base\n",
      "on - on\n",
      "the - the\n",
      "interaction - interact\n",
      "of - of\n",
      "nuclear - nuclear\n",
      "spin - spin\n",
      "with - with\n",
      "an - an\n",
      "external - extern\n",
      "magnetic - magnet\n",
      "field. - field.\n",
      "\n"
     ]
    }
   ],
   "source": [
    "x=stemSentence(sentence)\n",
    "print(x)"
   ]
  },
  {
   "cell_type": "code",
   "execution_count": null,
   "id": "3a1bae3f-7e40-4b7e-996c-a854d1c77177",
   "metadata": {},
   "outputs": [],
   "source": []
  }
 ],
 "metadata": {
  "kernelspec": {
   "display_name": "Python 3 (ipykernel)",
   "language": "python",
   "name": "python3"
  },
  "language_info": {
   "codemirror_mode": {
    "name": "ipython",
    "version": 3
   },
   "file_extension": ".py",
   "mimetype": "text/x-python",
   "name": "python",
   "nbconvert_exporter": "python",
   "pygments_lexer": "ipython3",
   "version": "3.8.10"
  }
 },
 "nbformat": 4,
 "nbformat_minor": 5
}
