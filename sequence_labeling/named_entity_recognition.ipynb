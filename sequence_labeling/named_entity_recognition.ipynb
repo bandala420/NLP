{
 "cells": [
  {
   "cell_type": "code",
   "execution_count": 1,
   "id": "2d288312-d239-49fd-8f7b-ea68b722978a",
   "metadata": {},
   "outputs": [],
   "source": [
    "# Daniel Bandala @ oct-2022\n",
    "from nltk import word_tokenize, pos_tag, ne_chunk,download"
   ]
  },
  {
   "cell_type": "markdown",
   "id": "ab7a9ea6-845c-44f7-b4e1-70eec360cf10",
   "metadata": {},
   "source": [
    "# Named entity recognition\n",
    "Named-entity recognition (NER) (also known as (named) entity identification, entity chunking, and entity extraction) is a subtask of information extraction that seeks to locate and classify named entities mentioned in unstructured text into pre-defined categories such as person names, organizations, locations, medical codes, time expressions, quantities, monetary values, percentages, etc."
   ]
  },
  {
   "cell_type": "code",
   "execution_count": 8,
   "id": "384f81f5-7aba-442f-b7be-e9e7fa9169d7",
   "metadata": {},
   "outputs": [
    {
     "name": "stderr",
     "output_type": "stream",
     "text": [
      "[nltk_data] Downloading package maxent_ne_chunker to\n",
      "[nltk_data]     /home/bandala/nltk_data...\n",
      "[nltk_data]   Package maxent_ne_chunker is already up-to-date!\n",
      "[nltk_data] Downloading package words to /home/bandala/nltk_data...\n",
      "[nltk_data]   Unzipping corpora/words.zip.\n"
     ]
    },
    {
     "data": {
      "text/plain": [
       "True"
      ]
     },
     "execution_count": 8,
     "metadata": {},
     "output_type": "execute_result"
    }
   ],
   "source": [
    "download('maxent_ne_chunker')\n",
    "download('words')"
   ]
  },
  {
   "cell_type": "code",
   "execution_count": 4,
   "id": "464c0319-30d4-47c7-bbfa-32acd8a384f3",
   "metadata": {},
   "outputs": [],
   "source": [
    "sentence = \"Antonio went to work at Google\""
   ]
  },
  {
   "cell_type": "code",
   "execution_count": 5,
   "id": "bc840d2b-b24b-4e87-8dc5-93d213c39787",
   "metadata": {},
   "outputs": [],
   "source": [
    "# tokenization\n",
    "tokens = word_tokenize(sentence)"
   ]
  },
  {
   "cell_type": "code",
   "execution_count": 6,
   "id": "3f9d2fa6-df76-4193-bb8d-e3d70cfc0acb",
   "metadata": {},
   "outputs": [],
   "source": [
    "# tagging\n",
    "tagged = pos_tag(tokens)"
   ]
  },
  {
   "cell_type": "code",
   "execution_count": 9,
   "id": "641d72b8-2734-4209-aefa-cc84bfcb5efa",
   "metadata": {},
   "outputs": [
    {
     "name": "stdout",
     "output_type": "stream",
     "text": [
      "(S\n",
      "  (PERSON Antonio/NNP)\n",
      "  went/VBD\n",
      "  to/TO\n",
      "  work/VB\n",
      "  at/IN\n",
      "  (ORGANIZATION Google/NNP))\n"
     ]
    }
   ],
   "source": [
    "NE = ne_chunk(tagged)\n",
    "print (NE)"
   ]
  },
  {
   "cell_type": "code",
   "execution_count": null,
   "id": "c23ce430-a905-4363-a7a4-e36966376821",
   "metadata": {},
   "outputs": [],
   "source": []
  }
 ],
 "metadata": {
  "kernelspec": {
   "display_name": "Python 3 (ipykernel)",
   "language": "python",
   "name": "python3"
  },
  "language_info": {
   "codemirror_mode": {
    "name": "ipython",
    "version": 3
   },
   "file_extension": ".py",
   "mimetype": "text/x-python",
   "name": "python",
   "nbconvert_exporter": "python",
   "pygments_lexer": "ipython3",
   "version": "3.8.10"
  }
 },
 "nbformat": 4,
 "nbformat_minor": 5
}
