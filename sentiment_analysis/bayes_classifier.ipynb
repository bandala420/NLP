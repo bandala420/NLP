{
 "cells": [
  {
   "cell_type": "code",
   "execution_count": 1,
   "id": "adfdb5c2-8f9e-4326-b6f6-fb16a83f11c0",
   "metadata": {},
   "outputs": [],
   "source": [
    "# Daniel Bandala @ dic 2022\n",
    "from sklearn.naive_bayes import MultinomialNB\n",
    "from nltk.tokenize import TweetTokenizer\n",
    "import os\n",
    "import numpy as np\n",
    "import pandas as pd\n",
    "from stop_words import get_stop_words\n",
    "from sklearn.model_selection import train_test_split\n",
    "from sklearn.feature_extraction.text import TfidfVectorizer, CountVectorizer\n",
    "import snowballstemmer\n",
    "import matplotlib.pyplot as plt"
   ]
  },
  {
   "cell_type": "code",
   "execution_count": 2,
   "id": "8e73362b-253a-4003-8831-31f3ed3178a5",
   "metadata": {},
   "outputs": [],
   "source": [
    "np.random.seed(20)"
   ]
  },
  {
   "cell_type": "code",
   "execution_count": 3,
   "id": "e9bbb5dd-9178-4e74-a9e7-a3ddfd658cd3",
   "metadata": {},
   "outputs": [],
   "source": [
    "with open('positivo.txt', \"r\") as pos:\n",
    "    tweets_positivos = pos.read()\n",
    "with open('negativo.txt',\"r\") as neg:\n",
    "    tweets_negativos = neg.read()\n",
    "tweets = tweets_positivos + \"\\n\" + tweets_negativos\n",
    "listaTweets = []\n",
    "listaTweets = tweets.split(\"\\n\")"
   ]
  },
  {
   "cell_type": "code",
   "execution_count": 4,
   "id": "42e79d01-fd51-464c-8a42-0bf6a12f776e",
   "metadata": {},
   "outputs": [
    {
     "name": "stdout",
     "output_type": "stream",
     "text": [
      "Tweets list:  ['jaja muy amable usted igual descanse mañana le muestro la foto de los perritos :)', 'wooow!!! ^^!! No me muero sin ir antes a uno contigo :)', 'hago para gustarte mas mi amor! :) jiji', 'Si, por favor :)', 'Hay porfin en mi casita :)', 'YA SERA N A V I D A D :)', 'Ni muy my ni tan tan... Felicidades Tanii, te mando un beso y un fuerte abrazo :)', 'Igual, hace mucho frio... si me mandan abrazos no me molesto :)', '#YoQuieroParaNavidad salir aunquesea de un caminante en The Walking Dead... :)', 'fiesta de pizzas :)', 'Oigan...ya no tengo torticolis :) por si querían saber', 'me gusta que me digas que si con una sonrisa :)', 'Algún plan para más tarde? :) Tengo que esperarme hasta las 12 D: jajaja', 'hello!!! :)', 'en el 1 :)', 'existe transporte publico :)', 'cálmate MIEDOSA! jajaja! aprovecha! :) digo no pasará nada que no kieras! jaja y de donde es!? o que¡!', 'No hay nada mejor, no hay nada mejor que casa... Por fin Hogar dulce hogar :)', 'RT Tu tambn eres lo mas maravilloso que me pudo pasar... eres increiblee :) #eadmv Te amoo tantoo bby !!', '', 'Prohibido subir un gramo de aquí a diciembre :(', 'BUENO SIGO DEPRIMIDA SIN MI CELULAR Y MI NEXTEL :(', 'mikeeeee!! como q estas enfermoo o alergico??? ammm :( ya compontee!!! tqmmmm!!!', 'RT Esos Reyes no me trajeron mis diez millones de pesos... En si, no me reembolsaron ni los $45 del globo :(', 'Perdon es lo unico que puedo pedirte :( Patricia Espinosa', 'Te baje las estrellas de un solo golpe :(', 'Pfff... pues ya esta :(', '&gt; hey no soy americanista :(', 'soy un diestro con alma de zurdo... dios me castigo al hacerme diestro :(', 'No quiero sentir hambre :(', 'Ya acabaron :(', 'yo igual pero mis padres no y no me dejan aquí en mi casa :(', 'Se decoloro :(', ':( perdón, regresé tarde.... ya no era adecuado marcar jajaja', 'Me voy a quedar calva :(', 'Yo no eh visto Rapunzel ni Río jmmm :(', 'extraño salir con mis amigas :(', 'por que rompes mi ilusion :(', 'Salió el sol :3 verga ahora sale mas temprano :(', '']\n"
     ]
    }
   ],
   "source": [
    "print(\"Tweets list: \", listaTweets)"
   ]
  },
  {
   "cell_type": "code",
   "execution_count": 5,
   "id": "192c6a0c-0835-47dd-ad01-f010467ef110",
   "metadata": {},
   "outputs": [],
   "source": [
    "etiquetaTweet = []\n",
    "for i in range(0,len(tweets_positivos.split(\"\\n\"))):\n",
    "    etiquetaTweet.append(1)\n",
    "for x in range(0,len(tweets_negativos.split(\"\\n\"))):\n",
    "    etiquetaTweet.append(2)"
   ]
  },
  {
   "cell_type": "code",
   "execution_count": 6,
   "id": "18221371-17f6-4f62-8417-f7c2b6fe0b48",
   "metadata": {},
   "outputs": [],
   "source": [
    "vectorizer = TfidfVectorizer(use_idf=True,\n",
    "    lowercase=True,\n",
    "    strip_accents='ascii',\n",
    "    smooth_idf=True,\n",
    "    analyzer='char',\n",
    "    ngram_range=(1,2)\n",
    ")\n",
    "y = etiquetaTweet\n",
    "X = vectorizer.fit_transform(listaTweets)"
   ]
  },
  {
   "cell_type": "code",
   "execution_count": 10,
   "id": "5efff0b8-cba7-4d0d-bab0-6fcedca67b47",
   "metadata": {},
   "outputs": [],
   "source": [
    "# split training and test data\n",
    "X_train, X_test, y_train, y_test = train_test_split(X, y,shuffle = True)"
   ]
  },
  {
   "cell_type": "code",
   "execution_count": 11,
   "id": "170f0917-01b5-45db-b234-46f19224fd85",
   "metadata": {},
   "outputs": [
    {
     "data": {
      "text/plain": [
       "MultinomialNB(alpha=0.42)"
      ]
     },
     "execution_count": 11,
     "metadata": {},
     "output_type": "execute_result"
    }
   ],
   "source": [
    "# fit bayes model\n",
    "clf = MultinomialNB(alpha=0.42,fit_prior=True)\n",
    "clf.fit(X_train,y_train)"
   ]
  },
  {
   "cell_type": "code",
   "execution_count": 12,
   "id": "3303a729-cae6-47fc-b811-8404d117a252",
   "metadata": {},
   "outputs": [
    {
     "name": "stdout",
     "output_type": "stream",
     "text": [
      "Classifier score:  90.0 %\n"
     ]
    }
   ],
   "source": [
    "print(\"Classifier score: \", clf.score(X_test,y_test)*100,\"%\")"
   ]
  },
  {
   "cell_type": "code",
   "execution_count": null,
   "id": "0b017861-6a54-4bf4-b163-4d515dbcd6f8",
   "metadata": {},
   "outputs": [],
   "source": []
  }
 ],
 "metadata": {
  "kernelspec": {
   "display_name": "Python 3 (ipykernel)",
   "language": "python",
   "name": "python3"
  },
  "language_info": {
   "codemirror_mode": {
    "name": "ipython",
    "version": 3
   },
   "file_extension": ".py",
   "mimetype": "text/x-python",
   "name": "python",
   "nbconvert_exporter": "python",
   "pygments_lexer": "ipython3",
   "version": "3.8.10"
  }
 },
 "nbformat": 4,
 "nbformat_minor": 5
}
