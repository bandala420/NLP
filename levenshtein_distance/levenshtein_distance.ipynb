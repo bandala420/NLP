{
 "cells": [
  {
   "cell_type": "code",
   "execution_count": 1,
   "id": "ce6af735-ea4a-4ad8-91d1-3e4b7d8414f4",
   "metadata": {},
   "outputs": [],
   "source": [
    "# Daniel Bandala @ sep 2022\n",
    "import numpy"
   ]
  },
  {
   "cell_type": "markdown",
   "id": "32fb718b-40c2-4e46-baae-5218c6f21844",
   "metadata": {},
   "source": [
    "# Levenshtein distance\n",
    "Using the dynamic programming approach for calculating the Levenshtein distance, a 2-D matrix is created that holds the distances between all prefixes of the two words being compared. Given two words of lengths $m$ and $n$, and based on the steps discussed in the previous tutorial, the first thing to do is to create a 2-D matrix of integers of size $(m+1, n+1)$ or $(n+1, m+1)$ based on whether the first word represents the rows or the columns. It doesn't matter which word is used for what, but you do need to be consistent since the rest of the code depends on this choice."
   ]
  },
  {
   "cell_type": "code",
   "execution_count": 2,
   "id": "be6a5cfb-bbe4-4f52-8aaa-601a3ab47ba2",
   "metadata": {},
   "outputs": [],
   "source": [
    "def levenshteinDistanceMatrix(token1, token2, verbose=False):\n",
    "    # init vector\n",
    "    distances = numpy.zeros((len(token1) + 1, len(token2) + 1))\n",
    "    for t1 in range(len(token1) + 1):\n",
    "        distances[t1][0] = t1\n",
    "\n",
    "    for t2 in range(len(token2) + 1):\n",
    "        distances[0][t2] = t2\n",
    "    # show distances\n",
    "    if verbose: printDistances(distances, len(token1), len(token2))\n",
    "    return distances"
   ]
  },
  {
   "cell_type": "code",
   "execution_count": 3,
   "id": "028b67e9-8d46-4656-bb10-8e1c47063d3f",
   "metadata": {},
   "outputs": [],
   "source": [
    "def printDistances(distances, token1Length, token2Length):\n",
    "    for t1 in range(token1Length + 1):\n",
    "        for t2 in range(token2Length + 1):\n",
    "            print(int(distances[t1][t2]), end=\" \")\n",
    "        print()"
   ]
  },
  {
   "cell_type": "code",
   "execution_count": 4,
   "id": "745f1b43-31ba-4c78-8ea1-a4dec4c55fa3",
   "metadata": {},
   "outputs": [
    {
     "name": "stdout",
     "output_type": "stream",
     "text": [
      "0 1 2 3 4 5 \n",
      "1 0 0 0 0 0 \n",
      "2 0 0 0 0 0 \n",
      "3 0 0 0 0 0 \n",
      "4 0 0 0 0 0 \n"
     ]
    },
    {
     "data": {
      "text/plain": [
       "array([[0., 1., 2., 3., 4., 5.],\n",
       "       [1., 0., 0., 0., 0., 0.],\n",
       "       [2., 0., 0., 0., 0., 0.],\n",
       "       [3., 0., 0., 0., 0., 0.],\n",
       "       [4., 0., 0., 0., 0., 0.]])"
      ]
     },
     "execution_count": 4,
     "metadata": {},
     "output_type": "execute_result"
    }
   ],
   "source": [
    "levenshteinDistanceMatrix(\"kelm\", \"hello\", True)"
   ]
  },
  {
   "cell_type": "markdown",
   "id": "ad57a081-edd1-41f0-92be-bea8663aa33d",
   "metadata": {},
   "source": [
    "To calculate the distances between all prefixes of the two words, two for loops are used to iterate through each cell in the matrix (excluding the first row/column). Inside the loops the distances are calculated for all combinations of prefixes from the two words. Based on the discussion in the previous tutorial, the distance between two prefixes is calculated based on a 2 x 2 matrix as shown in the next figure. Such a matrix always has three known values and just one missing value which is to be calculated. If the two characters located at the end of the two prefixes being compared are equal, then the distance is equal to the value in the top-left corner of the 2 x 2 matrix. This is implemented in the next if statement. If the two characters are not equal, then the distance in the current cell is equal to the minimum of the three existing values in the 2 x 2 matrix after adding a cost of 1. An else block is added to the previous if statement to calculate such a distance according to the following code."
   ]
  },
  {
   "cell_type": "code",
   "execution_count": 5,
   "id": "cf3695f9-f50a-4b54-9c19-1c778db203a5",
   "metadata": {},
   "outputs": [],
   "source": [
    "def levenshteinDistanceDP(token1, token2, verbose=False):\n",
    "    distances = numpy.zeros((len(token1) + 1, len(token2) + 1))\n",
    "\n",
    "    for t1 in range(len(token1) + 1):\n",
    "        distances[t1][0] = t1\n",
    "\n",
    "    for t2 in range(len(token2) + 1):\n",
    "        distances[0][t2] = t2\n",
    "        \n",
    "    a = 0\n",
    "    b = 0\n",
    "    c = 0\n",
    "    \n",
    "    for t1 in range(1, len(token1) + 1):\n",
    "        for t2 in range(1, len(token2) + 1):\n",
    "            if (token1[t1-1] == token2[t2-1]):\n",
    "                distances[t1][t2] = distances[t1 - 1][t2 - 1]\n",
    "            else:\n",
    "                a = distances[t1][t2 - 1]\n",
    "                b = distances[t1 - 1][t2]\n",
    "                c = distances[t1 - 1][t2 - 1]\n",
    "                \n",
    "                if (a <= b and a <= c):\n",
    "                    distances[t1][t2] = a + 1\n",
    "                elif (b <= a and b <= c):\n",
    "                    distances[t1][t2] = b + 1\n",
    "                else:\n",
    "                    distances[t1][t2] = c + 1\n",
    "\n",
    "    if verbose: printDistances(distances, len(token1), len(token2))\n",
    "    return distances[len(token1)][len(token2)]"
   ]
  },
  {
   "cell_type": "code",
   "execution_count": 6,
   "id": "610d0d51-a91e-4abc-bf65-8f23c9ab8059",
   "metadata": {},
   "outputs": [
    {
     "name": "stdout",
     "output_type": "stream",
     "text": [
      "0 1 2 3 4 5 \n",
      "1 1 2 3 4 5 \n",
      "2 2 1 2 3 4 \n",
      "3 3 2 1 2 3 \n",
      "4 4 3 2 2 3 \n"
     ]
    }
   ],
   "source": [
    "distance = levenshteinDistanceDP(\"kelm\", \"hello\", True)"
   ]
  },
  {
   "cell_type": "code",
   "execution_count": 7,
   "id": "57ba9ecc-25e8-4c3a-824f-4c535e811cea",
   "metadata": {},
   "outputs": [
    {
     "name": "stdout",
     "output_type": "stream",
     "text": [
      "Levenshtein distance:  3.0\n"
     ]
    }
   ],
   "source": [
    "print(\"Levenshtein distance: \",distance)"
   ]
  },
  {
   "cell_type": "markdown",
   "id": "84002740-5ca3-44db-a1ba-670b03bcf0aa",
   "metadata": {},
   "source": [
    "## Dictionary Search for Word Autocompletion and Autocorrection\n",
    "One application of the Levenshtein distance is to help the writer write faster by automatically correcting typos or completing words. In this section we'll experiment with a small version of the English dictionary (which contains just 1,000 common words) to complete this task.\n",
    "\n",
    "The dictWordDist list is sorted to leave the best-matched words at the top of the list. Inside a for loop with a number of iterations equal to the value of the numWords argument, the dictWordDist list is indexed to return a string holding the distance and the word separated by -."
   ]
  },
  {
   "cell_type": "code",
   "execution_count": 8,
   "id": "315f04ba-0800-4758-8fa5-7cf6f1bed787",
   "metadata": {},
   "outputs": [],
   "source": [
    "def calcDictDistance(word, numWords):\n",
    "    file = open('1-1000.txt', 'r') \n",
    "    lines = file.readlines() \n",
    "    file.close()\n",
    "    dictWordDist = []\n",
    "    wordIdx = 0\n",
    "    \n",
    "    for line in lines: \n",
    "        wordDistance = levenshteinDistanceDP(word, line.strip())        \n",
    "        if wordDistance >= 10:\n",
    "            wordDistance = 9\n",
    "        dictWordDist.append(str(int(wordDistance)) + \"-\" + line.strip())\n",
    "        wordIdx = wordIdx + 1\n",
    "\n",
    "    closestWords = []\n",
    "    wordDetails = []\n",
    "    currWordDist = 0\n",
    "    dictWordDist.sort()\n",
    "    print(\"Best matching words: \", dictWordDist)\n",
    "    for i in range(numWords):\n",
    "        currWordDist = dictWordDist[i]\n",
    "        wordDetails = currWordDist.split(\"-\")\n",
    "        closestWords.append(wordDetails[1])\n",
    "    return closestWords"
   ]
  },
  {
   "cell_type": "code",
   "execution_count": 14,
   "id": "0a8016ce-ee64-4764-a1d0-5bd4f8660c36",
   "metadata": {},
   "outputs": [
    {
     "name": "stdout",
     "output_type": "stream",
     "text": [
      "Best matching words:  ['1-page', '1-paper', '2-age', '2-are', '2-base', '2-came', '2-care', '2-case', '2-ease', '2-face', '2-game', '2-gave', '2-have', '2-hope', '2-lake', '2-late', '2-made', '2-make', '2-map', '2-name', '2-pair', '2-part', '2-pass', '2-past', '2-path', '2-pay', '2-place', '2-plane', '2-pose', '2-race', '2-rope', '2-safe', '2-same', '2-save', '2-shape', '2-space', '2-take', '2-type', '2-wave', '3-a', '3-able', '3-act', '3-add', '3-ago', '3-air', '3-all', '3-am', '3-an', '3-and', '3-any', '3-apple', '3-area', '3-arm', '3-art', '3-as', '3-ask', '3-at', '3-baby', '3-back', '3-bad', '3-ball', '3-band', '3-bank', '3-bar', '3-bat', '3-be', '3-blue', '3-bone', '3-call', '3-camp', '3-can', '3-car', '3-card', '3-cat', '3-cause', '3-come', '3-copy', '3-dad', '3-dance', '3-dark', '3-day', '3-die', '3-done', '3-each', '3-ear', '3-east', '3-eat', '3-edge', '3-else', '3-eye', '3-fact', '3-fair', '3-fall', '3-far', '3-farm', '3-fast', '3-fat', '3-fine', '3-fire', '3-five', '3-free', '3-gas', '3-give', '3-gone', '3-had', '3-hair', '3-half', '3-hand', '3-happen', '3-happy', '3-hard', '3-has', '3-hat', '3-he', '3-here', '3-hole', '3-home', '3-huge', '3-ice', '3-kept', '3-lady', '3-land', '3-large', '3-last', '3-law', '3-lay', '3-leave', '3-lie', '3-life', '3-like', '3-line', '3-live', '3-lone', '3-love', '3-main', '3-man', '3-many', '3-mark', '3-mass', '3-may', '3-me', '3-mile', '3-mine', '3-more', '3-move', '3-nine', '3-nose', '3-note', '3-once', '3-one', '3-open', '3-paint', '3-parent', '3-party', '3-people', '3-phrase', '3-pick', '3-piece', '3-plain', '3-plan', '3-planet', '3-plant', '3-play', '3-please', '3-poem', '3-poor', '3-port', '3-post', '3-power', '3-proper', '3-prove', '3-pull', '3-push', '3-put', '3-rail', '3-rain', '3-raise', '3-ran', '3-range', '3-ride', '3-rise', '3-rose', '3-rule', '3-said', '3-sail', '3-salt', '3-sand', '3-sat', '3-saw', '3-say', '3-scale', '3-see', '3-share', '3-she', '3-shoe', '3-side', '3-size', '3-slave', '3-some', '3-spoke', '3-state', '3-sure', '3-table', '3-tail', '3-talk', '3-tall', '3-the', '3-tie', '3-time', '3-tire', '3-tone', '3-top', '3-trade', '3-tree', '3-true', '3-tube', '3-up', '3-use', '3-value', '3-vary', '3-wait', '3-walk', '3-wall', '3-want', '3-war', '3-warm', '3-was', '3-wash', '3-water', '3-way', '3-we', '3-were', '3-wide', '3-wife', '3-wire', '3-yard', '4-I', '4-above', '4-after', '4-again', '4-agree', '4-also', '4-anger', '4-appear', '4-atom', '4-basic', '4-bear', '4-beat', '4-bed', '4-been', '4-bell', '4-best', '4-big', '4-bird', '4-bit', '4-black', '4-blow', '4-board', '4-boat', '4-body', '4-book', '4-born', '4-both', '4-box', '4-boy', '4-broke', '4-burn', '4-busy', '4-but', '4-buy', '4-by', '4-carry', '4-catch', '4-cell', '4-cent', '4-chair', '4-chance', '4-change', '4-charge', '4-chart', '4-chief', '4-city', '4-claim', '4-class', '4-close', '4-coast', '4-coat', '4-cold', '4-compare', '4-cook', '4-cool', '4-corn', '4-cost', '4-cover', '4-cow', '4-crease', '4-create', '4-crop', '4-cry', '4-cut', '4-danger', '4-dead', '4-deal', '4-dear', '4-death', '4-deep', '4-depend', '4-did', '4-do', '4-does', '4-dog', '4-door', '4-down', '4-draw', '4-drive', '4-drop', '4-dry', '4-duck', '4-early', '4-earth', '4-egg', '4-end', '4-enter', '4-equate', '4-even', '4-ever', '4-exact', '4-example', '4-expect', '4-father', '4-favor', '4-fear', '4-feed', '4-feel', '4-feet', '4-fell', '4-felt', '4-few', '4-fig', '4-fill', '4-find', '4-fish', '4-fit', '4-flat', '4-flow', '4-fly', '4-food', '4-foot', '4-for', '4-force', '4-form', '4-four', '4-from', '4-full', '4-fun', '4-garden', '4-gather', '4-get', '4-girl', '4-glad', '4-glass', '4-go', '4-gold', '4-good', '4-got', '4-grand', '4-grass', '4-gray', '4-green', '4-grew', '4-grow', '4-guide', '4-gun', '4-head', '4-hear', '4-heard', '4-heart', '4-heat', '4-heavy', '4-held', '4-help', '4-her', '4-high', '4-hill', '4-him', '4-his', '4-hit', '4-hold', '4-horse', '4-hot', '4-hour', '4-house', '4-how', '4-hunt', '4-idea', '4-if', '4-in', '4-inch', '4-iron', '4-is', '4-it', '4-job', '4-join', '4-joy', '4-jump', '4-just', '4-keep', '4-key', '4-kill', '4-kind', '4-king', '4-knew', '4-know', '4-laugh', '4-lead', '4-learn', '4-least', '4-led', '4-left', '4-leg', '4-less', '4-let', '4-level', '4-lift', '4-list', '4-locate', '4-log', '4-long', '4-look', '4-lost', '4-lot', '4-loud', '4-low', '4-magnet', '4-major', '4-market', '4-master', '4-match', '4-matter', '4-mean', '4-meant', '4-meat', '4-meet', '4-men', '4-milk', '4-mind', '4-miss', '4-mix', '4-money', '4-moon', '4-most', '4-much', '4-must', '4-my', '4-nature', '4-near', '4-neck', '4-need', '4-never', '4-new', '4-next', '4-no', '4-noise', '4-noon', '4-nor', '4-not', '4-noun', '4-now', '4-of', '4-off', '4-offer', '4-often', '4-oh', '4-oil', '4-old', '4-on', '4-only', '4-operate', '4-or', '4-order', '4-other', '4-our', '4-out', '4-over', '4-own', '4-pattern', '4-perhaps', '4-pitch', '4-point', '4-pound', '4-prepare', '4-press', '4-print', '4-quart', '4-quiet', '4-quite', '4-radio', '4-rather', '4-reach', '4-read', '4-ready', '4-real', '4-red', '4-repeat', '4-reply', '4-rest', '4-rich', '4-ring', '4-river', '4-road', '4-rock', '4-roll', '4-room', '4-root', '4-row', '4-rub', '4-run', '4-score', '4-sea', '4-seat', '4-seed', '4-seem', '4-self', '4-sell', '4-send', '4-sense', '4-sent', '4-serve', '4-set', '4-seven', '4-shall', '4-sharp', '4-sheet', '4-shine', '4-ship', '4-shop', '4-shore', '4-show', '4-sign', '4-simple', '4-since', '4-sing', '4-sit', '4-six', '4-skin', '4-sky', '4-sleep', '4-slip', '4-slow', '4-small', '4-smile', '4-snow', '4-so', '4-soft', '4-soil', '4-solve', '4-son', '4-song', '4-soon', '4-speak', '4-speed', '4-spell', '4-spend', '4-spot', '4-square', '4-stand', '4-star', '4-start', '4-stay', '4-steel', '4-step', '4-stone', '4-stop', '4-store', '4-such', '4-suit', '4-sun', '4-swim', '4-teach', '4-team', '4-tell', '4-ten', '4-term', '4-test', '4-than', '4-thank', '4-that', '4-them', '4-then', '4-there', '4-these', '4-they', '4-thin', '4-this', '4-those', '4-three', '4-thus', '4-tiny', '4-to', '4-told', '4-too', '4-took', '4-tool', '4-town', '4-track', '4-train', '4-travel', '4-trip', '4-try', '4-turn', '4-two', '4-under', '4-unit', '4-us', '4-valley', '4-verb', '4-very', '4-view', '4-voice', '4-vowel', '4-watch', '4-wear', '4-week', '4-well', '4-went', '4-west', '4-what', '4-wheel', '4-when', '4-where', '4-while', '4-white', '4-who', '4-whole', '4-whose', '4-why', '4-wild', '4-will', '4-win', '4-wind', '4-wing', '4-wish', '4-with', '4-women', '4-wood', '4-word', '4-work', '4-write', '4-wrote', '4-year', '4-yes', '4-yet', '4-you', '4-your', '5-about', '5-afraid', '5-allow', '5-always', '5-among', '5-answer', '5-arrange', '5-arrive', '5-beauty', '5-before', '5-began', '5-begin', '5-better', '5-block', '5-blood', '5-branch', '5-bread', '5-break', '5-bring', '5-broad', '5-brown', '5-build', '5-capital', '5-captain', '5-caught', '5-center', '5-check', '5-chick', '5-child', '5-choose', '5-chord', '5-circle', '5-clean', '5-clear', '5-climb', '5-clock', '5-clothe', '5-cloud', '5-color', '5-company', '5-corner', '5-could', '5-count', '5-course', '5-cross', '5-crowd', '5-decide', '5-degree', '5-desert', '5-differ', '5-direct', '5-divide', \"5-don't\", '5-double', '5-dream', '5-dress', '5-drink', '5-effect', '5-eight', '5-either', '5-enemy', '5-engine', '5-equal', '5-event', '5-every', '5-except', '5-excite', '5-family', '5-famous', '5-field', '5-fight', '5-figure', '5-final', '5-finger', '5-first', '5-floor', '5-flower', '5-forest', '5-found', '5-fresh', '5-friend', '5-front', '5-fruit', '5-gentle', '5-govern', '5-great', '5-group', '5-guess', '5-human', '5-hurry', '5-imagine', '5-insect', '5-invent', '5-island', '5-letter', '5-light', '5-listen', '5-little', '5-machine', '5-measure', '5-metal', '5-middle', '5-might', '5-minute', '5-modern', '5-moment', '5-month', '5-mother', '5-mount', '5-mouth', '5-music', '5-nation', '5-night', '5-north', '5-notice', '5-number', '5-object', '5-occur', '5-ocean', '5-office', '5-organ', '5-oxygen', '5-period', '5-person', '5-picture', '5-plural', '5-populate', '5-practice', '5-present', '5-pretty', '5-probable', '5-problem', '5-process', '5-produce', '5-property', '5-protect', '5-provide', '5-quick', '5-reason', '5-right', '5-round', '5-search', '5-season', '5-select', '5-separate', '5-settle', '5-shell', '5-short', '5-shout', '5-sight', '5-silent', '5-silver', '5-single', '5-sister', '5-skill', '5-smell', '5-sound', '5-south', '5-speech', '5-spread', '5-spring', '5-stead', '5-steam', '5-stick', '5-still', '5-stood', '5-story', '5-strange', '5-stream', '5-street', '5-study', '5-sudden', '5-sugar', '5-summer', '5-supply', '5-surface', '5-system', '5-teeth', '5-their', '5-thick', '5-thing', '5-think', '5-third', '5-throw', '5-total', '5-touch', '5-toward', '5-truck', '5-until', '5-usual', '5-village', '5-visit', '5-weather', '5-which', '5-winter', '5-woman', \"5-won't\", '5-wonder', '5-world', '5-would', '5-wrong', '5-young', '6-against', '6-animal', '6-behind', '6-believe', '6-between', '6-bottom', '6-bought', '6-bright', '6-brother', '6-certain', '6-collect', '6-colony', '6-column', '6-common', '6-complete', '6-connect', '6-contain', '6-correct', '6-cotton', '6-current', '6-design', '6-develop', '6-distant', '6-doctor', '6-dollar', '6-during', '6-element', '6-energy', '6-enough', '6-finish', '6-follow', '6-forward', '6-general', '6-ground', '6-hundred', '6-include', '6-indicate', '6-instant', '6-language', '6-length', '6-liquid', '6-material', '6-melody', '6-method', '6-motion', '6-natural', '6-numeral', '6-observe', '6-opposite', '6-paragraph', '6-possible', '6-product', '6-receive', '6-record', '6-region', '6-require', '6-result', '6-school', '6-science', '6-second', '6-segment', '6-several', '6-should', '6-soldier', '6-special', '6-station', '6-stretch', '6-string', '6-strong', '6-student', '6-subject', '6-success', '6-suffix', '6-suggest', '6-support', '6-surprise', '6-syllable', '6-symbol', '6-though', '6-triangle', '6-trouble', '6-twenty', '6-weight', '6-whether', '6-window', '6-written', '6-yellow', '7-brought', '7-century', '7-character', '7-children', '7-consider', '7-continue', '7-control', '7-country', '7-decimal', '7-describe', '7-discuss', '7-evening', '7-exercise', '7-fraction', '7-history', '7-interest', '7-million', '7-molecule', '7-morning', '7-mountain', '7-multiply', '7-nothing', '7-position', '7-quotient', '7-remember', '7-represent', '7-section', '7-sentence', '7-shoulder', '7-similar', '7-straight', '7-substance', '7-subtract', '7-thought', '7-thousand', '7-through', '7-together', '8-consonant', '8-continent', '8-determine', '8-division', '8-electric', '8-especially', '8-experience', '8-experiment', '8-industry', '8-necessary', '8-neighbor', '8-original', '8-particular', '8-question', '8-solution', '8-temperature', '9-condition', '9-dictionary', '9-difficult', '9-instrument']\n",
      "['page', 'paper', 'age']\n"
     ]
    }
   ],
   "source": [
    "print(calcDictDistance(\"pape\", 3))"
   ]
  },
  {
   "cell_type": "code",
   "execution_count": null,
   "id": "7d783e9f-dc7e-46df-b512-335f393206c0",
   "metadata": {},
   "outputs": [],
   "source": []
  }
 ],
 "metadata": {
  "kernelspec": {
   "display_name": "Python 3 (ipykernel)",
   "language": "python",
   "name": "python3"
  },
  "language_info": {
   "codemirror_mode": {
    "name": "ipython",
    "version": 3
   },
   "file_extension": ".py",
   "mimetype": "text/x-python",
   "name": "python",
   "nbconvert_exporter": "python",
   "pygments_lexer": "ipython3",
   "version": "3.8.10"
  }
 },
 "nbformat": 4,
 "nbformat_minor": 5
}
