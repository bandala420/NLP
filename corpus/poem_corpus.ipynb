{
 "cells": [
  {
   "cell_type": "code",
   "execution_count": 1,
   "id": "47982669-c6f3-4cd4-a08b-144968a4e840",
   "metadata": {},
   "outputs": [],
   "source": [
    "# Daniel Bandala @ oct 2022\n",
    "from nltk import download, NLTKWordTokenizer\n",
    "from nltk.tokenize import word_tokenize,sent_tokenize,TweetTokenizer\n",
    "from nltk.tokenize.treebank import TreebankWordDetokenizer\n",
    "from nltk.stem import SnowballStemmer\n",
    "from nltk.tokenize import word_tokenize, sent_tokenize"
   ]
  },
  {
   "cell_type": "code",
   "execution_count": 2,
   "id": "8da05b38-3c69-4787-aa7f-4363d6ea96ca",
   "metadata": {},
   "outputs": [
    {
     "name": "stderr",
     "output_type": "stream",
     "text": [
      "[nltk_data] Downloading package punkt to /home/bandala/nltk_data...\n",
      "[nltk_data]   Package punkt is already up-to-date!\n"
     ]
    },
    {
     "data": {
      "text/plain": [
       "True"
      ]
     },
     "execution_count": 2,
     "metadata": {},
     "output_type": "execute_result"
    }
   ],
   "source": [
    "# download punkt tokenizer source\n",
    "download('punkt')"
   ]
  },
  {
   "cell_type": "code",
   "execution_count": 3,
   "id": "5dd12d29-85c0-4993-85c3-0d1cd5753b49",
   "metadata": {},
   "outputs": [],
   "source": [
    "text = '''En una noche pavorosa, inquieto\n",
    "releía un vetusto mamotreto\n",
    "cuando creí escuchar\n",
    "un extraño ruido, de repente\n",
    "como si alguien tocase suavemente\n",
    "a mi puerta: Visita impertinente\n",
    "es, dije y nada más  .\n",
    "\n",
    "¡Ah! me acuerdo muy bien; era en invierno\n",
    "e impaciente medía el tiempo eterno\n",
    "cansado de buscar\n",
    "en los libros la calma bienhechora\n",
    "al dolor de mi muerta Leonora\n",
    "que habita con los ángeles ahora\n",
    "¡para siempre jamás!\n",
    "\n",
    "Sentí el sedeño y crujidor y elástico\n",
    "rozar de las cortinas, un fantástico\n",
    "terror, como jamás\n",
    "sentido había y quise aquel ruido\n",
    "explicando, mi espíritu oprimido\n",
    "calmar por fin: Un viajero perdido\n",
    "es, dije y nada más .\n",
    "\n",
    "Ya sintiendo más calma: Caballero\n",
    "exclamé, o dama, suplicaros quiero\n",
    "os sirváis excusar\n",
    "mas mi atención no estaba bien despierta\n",
    "y fue vuestra llamada tan incierta…\n",
    "Abrí entonces de par en par la puerta:\n",
    "tinieblas nada más.\n",
    "\n",
    "Miro al espacio, exploro la tiniebla\n",
    "y siento entonces que mi mente puebla\n",
    "turba de ideas cual\n",
    "ningún otro mortal las tuvo antes\n",
    "y escucho con oídos anhelantes\n",
    "Leonora  unas voces susurrantes\n",
    "murmurar nada más.\n",
    "\n",
    "Vuelvo a mi estancia con pavor secreto\n",
    "y a escuchar torno pálido e inquieto\n",
    "más fuerte golpear;\n",
    "algo, me digo, toca en mi ventana,\n",
    "comprender quiero la señal arcana\n",
    "y calmar esta angustia sobrehumana :\n",
    "¡el viento y nada más!\n",
    "\n",
    "Y la ventana abrí: revolcando\n",
    "vi entonces un cuervo venerando\n",
    "como ave de otra edad;\n",
    "sin mayor ceremonia entró en mis salas\n",
    "con gesto señorial y negras alas\n",
    "y sobre un busto, en el dintel, de Palas\n",
    "posóse y nada más.\n",
    "\n",
    "Miro al pájaro negro, sonriente\n",
    "ante su grave y serio continente\n",
    "y le comienzo a hablar,\n",
    "no sin un dejo de intención irónica:\n",
    "Oh cuervo, oh venerable ave anacrónica,\n",
    "¿cuál es tu nombre en la región plutónica? \n",
    "Dijo el cuervo: Jamás .\n",
    "\n",
    "En este caso al par grotesco y raro\n",
    "maravilléme al escuchar tan claro\n",
    "tal nombre pronunciar\n",
    "y debo confesar que sentí susto\n",
    "pues ante nadie, creo, tuvo el gusto\n",
    "de un cuervo ver, posado sobre un busto\n",
    "con tal nombre: Jamás .\n",
    "\n",
    "Cual si hubiese vertido en ese acento\n",
    "el alma, calló el ave y ni un momento\n",
    "las plumas movió ya,\n",
    "otros de mí han huido y se me alcanza\n",
    "que él partirá mañana sin tardanza\n",
    "como me ha abandonado la esperanza ;\n",
    "dijo el cuervo: ¡Jamás! \n",
    "\n",
    "Una respuesta al escuchar tan neta\n",
    "me dije, no sin inquietud secreta,\n",
    "Es esto nada más.\n",
    "Cuanto aprendió de un amo infortunado,\n",
    "a quien tenaz ha perseguido el hado\n",
    "y por solo estribillo ha conservado\n",
    "¡ese jamás, jamás! \n",
    "\n",
    "Rodé mi asiento hasta quedar enfrente\n",
    "de la puerta, del busto y del vidente\n",
    "cuervo y entonces ya\n",
    "reclinado en la blanda sedería\n",
    "en ensueños fantásticos me hundía,\n",
    "pensando siempre que decir querría\n",
    "aquel jamás, jamás.\n",
    "\n",
    "Largo tiempo quedéme así en reposo\n",
    "aquel extraño pájaro ominoso\n",
    "mirando sin cesar,\n",
    "ocupaba el diván de terciopelo\n",
    "do juntos nos sentamos y en mi duelo\n",
    "pensaba que Ella, nunca en este suelo\n",
    "lo ocuparía más.\n",
    "\n",
    "Entonces parecióme el aire denso\n",
    "con el aroma de quemado incienso\n",
    "de un invisible altar;\n",
    "y escucho voces repetir fervientes:\n",
    "Olvida a Leonor, bebe el nepenthes\n",
    "bebe el olvido en sus letales fuentes ;\n",
    "dijo el cuervo: ¡Jamás! \n",
    "\n",
    "Profeta, dije, augur de otras edades\n",
    "que arrojaron las negras tempestades\n",
    "aquí para mi mal,\n",
    "huésped de esta morada de tristura,\n",
    "dí, fosco engendro de la noche oscura,\n",
    "si un bálsamo habrá al fin a mi amargura :\n",
    "dijo el cuervo: ¡Jamás! \n",
    "\n",
    "Profeta, dije, o diablo, infausto cuervo\n",
    "por Dios, por mí, por mi dolor acerbo,\n",
    "por tu poder fatal\n",
    "dime si alguna vez a Leonora\n",
    "volveré a ver en la eternal aurora\n",
    "donde feliz con los querubes mora ;\n",
    "dijo el cuervo: ¡Jamás! \n",
    "\n",
    "Sea tal palabra la postrera\n",
    "retorna a la plutónica rivera,\n",
    "grité: ¡No vuelvas más,\n",
    "no dejes ni una huella, ni una pluma\n",
    "y mi espíritu envuelto en densa bruma\n",
    "libra por fin el peso que le abruma! \n",
    "dijo el cuervo: ¡Jamás! \n",
    "\n",
    "Y el cuervo inmóvil, fúnebre y adusto\n",
    "sigue siempre de Palas sobre el busto\n",
    "y bajo mi fanal,\n",
    "proyecta mancha lúgubre en la alfombra\n",
    "y su mirada de demonio asombra…\n",
    "¡Ay! ¿Mi alma enlutada de su sombra\n",
    "se librará? ¡Jamás!'''"
   ]
  },
  {
   "cell_type": "code",
   "execution_count": 4,
   "id": "ad800fda-4b38-4128-ae23-9777d1d9cb10",
   "metadata": {},
   "outputs": [
    {
     "name": "stdout",
     "output_type": "stream",
     "text": [
      "Tokens:  795\n",
      "['En', 'una', 'noche', 'pavorosa', ',', 'inquieto', 'releía', 'un', 'vetusto', 'mamotreto', 'cuando', 'creí', 'escuchar', 'un', 'extraño', 'ruido', ',', 'de', 'repente', 'como', 'si', 'alguien', 'tocase', 'suavemente', 'a', 'mi', 'puerta', ':', 'Visita', 'impertinente', 'es', ',', 'dije', 'y', 'nada', 'más', '.', '¡Ah', '!', 'me', 'acuerdo', 'muy', 'bien', ';', 'era', 'en', 'invierno', 'e', 'impaciente', 'medía', 'el', 'tiempo', 'eterno', 'cansado', 'de', 'buscar', 'en', 'los', 'libros', 'la', 'calma', 'bienhechora', 'al', 'dolor', 'de', 'mi', 'muerta', 'Leonora', 'que', 'habita', 'con', 'los', 'ángeles', 'ahora', '¡para', 'siempre', 'jamás', '!', 'Sentí', 'el', 'sedeño', 'y', 'crujidor', 'y', 'elástico', 'rozar', 'de', 'las', 'cortinas', ',', 'un', 'fantástico', 'terror', ',', 'como', 'jamás', 'sentido', 'había', 'y', 'quise', 'aquel', 'ruido', 'explicando', ',', 'mi', 'espíritu', 'oprimido', 'calmar', 'por', 'fin', ':', 'Un', 'viajero', 'perdido', 'es', ',', 'dije', 'y', 'nada', 'más', '.', 'Ya', 'sintiendo', 'más', 'calma', ':', 'Caballero', 'exclamé', ',', 'o', 'dama', ',', 'suplicaros', 'quiero', 'os', 'sirváis', 'excusar', 'mas', 'mi', 'atención', 'no', 'estaba', 'bien', 'despierta', 'y', 'fue', 'vuestra', 'llamada', 'tan', 'incierta…', 'Abrí', 'entonces', 'de', 'par', 'en', 'par', 'la', 'puerta', ':', 'tinieblas', 'nada', 'más', '.', 'Miro', 'al', 'espacio', ',', 'exploro', 'la', 'tiniebla', 'y', 'siento', 'entonces', 'que', 'mi', 'mente', 'puebla', 'turba', 'de', 'ideas', 'cual', 'ningún', 'otro', 'mortal', 'las', 'tuvo', 'antes', 'y', 'escucho', 'con', 'oídos', 'anhelantes', 'Leonora', 'unas', 'voces', 'susurrantes', 'murmurar', 'nada', 'más', '.', 'Vuelvo', 'a', 'mi', 'estancia', 'con', 'pavor', 'secreto', 'y', 'a', 'escuchar', 'torno', 'pálido', 'e', 'inquieto', 'más', 'fuerte', 'golpear', ';', 'algo', ',', 'me', 'digo', ',', 'toca', 'en', 'mi', 'ventana', ',', 'comprender', 'quiero', 'la', 'señal', 'arcana', 'y', 'calmar', 'esta', 'angustia', 'sobrehumana', ':', '¡el', 'viento', 'y', 'nada', 'más', '!', 'Y', 'la', 'ventana', 'abrí', ':', 'revolcando', 'vi', 'entonces', 'un', 'cuervo', 'venerando', 'como', 'ave', 'de', 'otra', 'edad', ';', 'sin', 'mayor', 'ceremonia', 'entró', 'en', 'mis', 'salas', 'con', 'gesto', 'señorial', 'y', 'negras', 'alas', 'y', 'sobre', 'un', 'busto', ',', 'en', 'el', 'dintel', ',', 'de', 'Palas', 'posóse', 'y', 'nada', 'más', '.', 'Miro', 'al', 'pájaro', 'negro', ',', 'sonriente', 'ante', 'su', 'grave', 'y', 'serio', 'continente', 'y', 'le', 'comienzo', 'a', 'hablar', ',', 'no', 'sin', 'un', 'dejo', 'de', 'intención', 'irónica', ':', 'Oh', 'cuervo', ',', 'oh', 'venerable', 'ave', 'anacrónica', ',', '¿cuál', 'es', 'tu', 'nombre', 'en', 'la', 'región', 'plutónica', '?', 'Dijo', 'el', 'cuervo', ':', 'Jamás', '.', 'En', 'este', 'caso', 'al', 'par', 'grotesco', 'y', 'raro', 'maravilléme', 'al', 'escuchar', 'tan', 'claro', 'tal', 'nombre', 'pronunciar', 'y', 'debo', 'confesar', 'que', 'sentí', 'susto', 'pues', 'ante', 'nadie', ',', 'creo', ',', 'tuvo', 'el', 'gusto', 'de', 'un', 'cuervo', 'ver', ',', 'posado', 'sobre', 'un', 'busto', 'con', 'tal', 'nombre', ':', 'Jamás', '.', 'Cual', 'si', 'hubiese', 'vertido', 'en', 'ese', 'acento', 'el', 'alma', ',', 'calló', 'el', 'ave', 'y', 'ni', 'un', 'momento', 'las', 'plumas', 'movió', 'ya', ',', 'otros', 'de', 'mí', 'han', 'huido', 'y', 'se', 'me', 'alcanza', 'que', 'él', 'partirá', 'mañana', 'sin', 'tardanza', 'como', 'me', 'ha', 'abandonado', 'la', 'esperanza', ';', 'dijo', 'el', 'cuervo', ':', '¡Jamás', '!', 'Una', 'respuesta', 'al', 'escuchar', 'tan', 'neta', 'me', 'dije', ',', 'no', 'sin', 'inquietud', 'secreta', ',', 'Es', 'esto', 'nada', 'más', '.', 'Cuanto', 'aprendió', 'de', 'un', 'amo', 'infortunado', ',', 'a', 'quien', 'tenaz', 'ha', 'perseguido', 'el', 'hado', 'y', 'por', 'solo', 'estribillo', 'ha', 'conservado', '¡ese', 'jamás', ',', 'jamás', '!', 'Rodé', 'mi', 'asiento', 'hasta', 'quedar', 'enfrente', 'de', 'la', 'puerta', ',', 'del', 'busto', 'y', 'del', 'vidente', 'cuervo', 'y', 'entonces', 'ya', 'reclinado', 'en', 'la', 'blanda', 'sedería', 'en', 'ensueños', 'fantásticos', 'me', 'hundía', ',', 'pensando', 'siempre', 'que', 'decir', 'querría', 'aquel', 'jamás', ',', 'jamás', '.', 'Largo', 'tiempo', 'quedéme', 'así', 'en', 'reposo', 'aquel', 'extraño', 'pájaro', 'ominoso', 'mirando', 'sin', 'cesar', ',', 'ocupaba', 'el', 'diván', 'de', 'terciopelo', 'do', 'juntos', 'nos', 'sentamos', 'y', 'en', 'mi', 'duelo', 'pensaba', 'que', 'Ella', ',', 'nunca', 'en', 'este', 'suelo', 'lo', 'ocuparía', 'más', '.', 'Entonces', 'parecióme', 'el', 'aire', 'denso', 'con', 'el', 'aroma', 'de', 'quemado', 'incienso', 'de', 'un', 'invisible', 'altar', ';', 'y', 'escucho', 'voces', 'repetir', 'fervientes', ':', 'Olvida', 'a', 'Leonor', ',', 'bebe', 'el', 'nepenthes', 'bebe', 'el', 'olvido', 'en', 'sus', 'letales', 'fuentes', ';', 'dijo', 'el', 'cuervo', ':', '¡Jamás', '!', 'Profeta', ',', 'dije', ',', 'augur', 'de', 'otras', 'edades', 'que', 'arrojaron', 'las', 'negras', 'tempestades', 'aquí', 'para', 'mi', 'mal', ',', 'huésped', 'de', 'esta', 'morada', 'de', 'tristura', ',', 'dí', ',', 'fosco', 'engendro', 'de', 'la', 'noche', 'oscura', ',', 'si', 'un', 'bálsamo', 'habrá', 'al', 'fin', 'a', 'mi', 'amargura', ':', 'dijo', 'el', 'cuervo', ':', '¡Jamás', '!', 'Profeta', ',', 'dije', ',', 'o', 'diablo', ',', 'infausto', 'cuervo', 'por', 'Dios', ',', 'por', 'mí', ',', 'por', 'mi', 'dolor', 'acerbo', ',', 'por', 'tu', 'poder', 'fatal', 'dime', 'si', 'alguna', 'vez', 'a', 'Leonora', 'volveré', 'a', 'ver', 'en', 'la', 'eternal', 'aurora', 'donde', 'feliz', 'con', 'los', 'querubes', 'mora', ';', 'dijo', 'el', 'cuervo', ':', '¡Jamás', '!', 'Sea', 'tal', 'palabra', 'la', 'postrera', 'retorna', 'a', 'la', 'plutónica', 'rivera', ',', 'grité', ':', '¡No', 'vuelvas', 'más', ',', 'no', 'dejes', 'ni', 'una', 'huella', ',', 'ni', 'una', 'pluma', 'y', 'mi', 'espíritu', 'envuelto', 'en', 'densa', 'bruma', 'libra', 'por', 'fin', 'el', 'peso', 'que', 'le', 'abruma', '!', 'dijo', 'el', 'cuervo', ':', '¡Jamás', '!', 'Y', 'el', 'cuervo', 'inmóvil', ',', 'fúnebre', 'y', 'adusto', 'sigue', 'siempre', 'de', 'Palas', 'sobre', 'el', 'busto', 'y', 'bajo', 'mi', 'fanal', ',', 'proyecta', 'mancha', 'lúgubre', 'en', 'la', 'alfombra', 'y', 'su', 'mirada', 'de', 'demonio', 'asombra…', '¡Ay', '!', '¿Mi', 'alma', 'enlutada', 'de', 'su', 'sombra', 'se', 'librará', '?', '¡Jamás', '!']\n"
     ]
    }
   ],
   "source": [
    "# tokenization\n",
    "word_tokenization = word_tokenize(text)\n",
    "print(\"Tokens: \",len(word_tokenization))\n",
    "print(word_tokenization)"
   ]
  },
  {
   "cell_type": "code",
   "execution_count": 5,
   "id": "562ac09a-4de1-43bc-889b-fc2fa10ac5f6",
   "metadata": {},
   "outputs": [
    {
     "name": "stdout",
     "output_type": "stream",
     "text": [
      "Stems:  795\n",
      "['en', 'una', 'noch', 'pavor', ',', 'inquiet', 'rel', 'un', 'vetust', 'mamotret', 'cuand', 'cre', 'escuch', 'un', 'extrañ', 'ruid', ',', 'de', 'repent', 'com', 'si', 'algui', 'toc', 'suavement', 'a', 'mi', 'puert', ':', 'visit', 'impertinent', 'es', ',', 'dij', 'y', 'nad', 'mas', '.', '¡ah', '!', 'me', 'acuerd', 'muy', 'bien', ';', 'era', 'en', 'inviern', 'e', 'impacient', 'med', 'el', 'tiemp', 'etern', 'cans', 'de', 'busc', 'en', 'los', 'libr', 'la', 'calm', 'bienhechor', 'al', 'dolor', 'de', 'mi', 'muert', 'leonor', 'que', 'habit', 'con', 'los', 'angel', 'ahor', '¡par', 'siempr', 'jamas', '!', 'sent', 'el', 'sedeñ', 'y', 'crujidor', 'y', 'elast', 'roz', 'de', 'las', 'cortin', ',', 'un', 'fantast', 'terror', ',', 'com', 'jamas', 'sent', 'hab', 'y', 'quis', 'aquel', 'ruid', 'explic', ',', 'mi', 'espiritu', 'oprim', 'calm', 'por', 'fin', ':', 'un', 'viajer', 'perd', 'es', ',', 'dij', 'y', 'nad', 'mas', '.', 'ya', 'sint', 'mas', 'calm', ':', 'caballer', 'exclam', ',', 'o', 'dam', ',', 'suplicar', 'quier', 'os', 'sirv', 'excus', 'mas', 'mi', 'atencion', 'no', 'estab', 'bien', 'despiert', 'y', 'fue', 'vuestr', 'llam', 'tan', 'incierta…', 'abri', 'entonc', 'de', 'par', 'en', 'par', 'la', 'puert', ':', 'tiniebl', 'nad', 'mas', '.', 'mir', 'al', 'espaci', ',', 'explor', 'la', 'tiniebl', 'y', 'sient', 'entonc', 'que', 'mi', 'ment', 'puebl', 'turb', 'de', 'ide', 'cual', 'ningun', 'otro', 'mortal', 'las', 'tuv', 'antes', 'y', 'escuch', 'con', 'oid', 'anhel', 'leonor', 'unas', 'voc', 'susurr', 'murmur', 'nad', 'mas', '.', 'vuelv', 'a', 'mi', 'estanci', 'con', 'pavor', 'secret', 'y', 'a', 'escuch', 'torn', 'pal', 'e', 'inquiet', 'mas', 'fuert', 'golp', ';', 'algo', ',', 'me', 'dig', ',', 'toc', 'en', 'mi', 'ventan', ',', 'comprend', 'quier', 'la', 'señal', 'arcan', 'y', 'calm', 'esta', 'angusti', 'sobrehuman', ':', '¡el', 'vient', 'y', 'nad', 'mas', '!', 'y', 'la', 'ventan', 'abri', ':', 'revolc', 'vi', 'entonc', 'un', 'cuerv', 'vener', 'com', 'ave', 'de', 'otra', 'edad', ';', 'sin', 'mayor', 'ceremoni', 'entro', 'en', 'mis', 'sal', 'con', 'gest', 'señorial', 'y', 'negr', 'alas', 'y', 'sobr', 'un', 'bust', ',', 'en', 'el', 'dintel', ',', 'de', 'pal', 'posos', 'y', 'nad', 'mas', '.', 'mir', 'al', 'pajar', 'negr', ',', 'sonrient', 'ante', 'su', 'grav', 'y', 'seri', 'continent', 'y', 'le', 'comienz', 'a', 'habl', ',', 'no', 'sin', 'un', 'dej', 'de', 'intencion', 'iron', ':', 'oh', 'cuerv', ',', 'oh', 'vener', 'ave', 'anacron', ',', '¿cual', 'es', 'tu', 'nombr', 'en', 'la', 'region', 'pluton', '?', 'dij', 'el', 'cuerv', ':', 'jamas', '.', 'en', 'este', 'cas', 'al', 'par', 'grotesc', 'y', 'rar', 'maravillem', 'al', 'escuch', 'tan', 'clar', 'tal', 'nombr', 'pronunci', 'y', 'deb', 'confes', 'que', 'sent', 'sust', 'pues', 'ante', 'nadi', ',', 'cre', ',', 'tuv', 'el', 'gust', 'de', 'un', 'cuerv', 'ver', ',', 'pos', 'sobr', 'un', 'bust', 'con', 'tal', 'nombr', ':', 'jamas', '.', 'cual', 'si', 'hub', 'vert', 'en', 'ese', 'acent', 'el', 'alma', ',', 'call', 'el', 'ave', 'y', 'ni', 'un', 'moment', 'las', 'plum', 'mov', 'ya', ',', 'otros', 'de', 'mi', 'han', 'huid', 'y', 'se', 'me', 'alcanz', 'que', 'el', 'part', 'mañan', 'sin', 'tardanz', 'com', 'me', 'ha', 'abandon', 'la', 'esper', ';', 'dij', 'el', 'cuerv', ':', '¡jamas', '!', 'una', 'respuest', 'al', 'escuch', 'tan', 'net', 'me', 'dij', ',', 'no', 'sin', 'inquietud', 'secret', ',', 'es', 'esto', 'nad', 'mas', '.', 'cuant', 'aprend', 'de', 'un', 'amo', 'infortun', ',', 'a', 'qui', 'tenaz', 'ha', 'persegu', 'el', 'had', 'y', 'por', 'sol', 'estribill', 'ha', 'conserv', '¡es', 'jamas', ',', 'jamas', '!', 'rod', 'mi', 'asient', 'hast', 'qued', 'enfrent', 'de', 'la', 'puert', ',', 'del', 'bust', 'y', 'del', 'vident', 'cuerv', 'y', 'entonc', 'ya', 'reclin', 'en', 'la', 'bland', 'sed', 'en', 'ensueñ', 'fantast', 'me', 'hund', ',', 'pens', 'siempr', 'que', 'dec', 'querr', 'aquel', 'jamas', ',', 'jamas', '.', 'larg', 'tiemp', 'quedem', 'asi', 'en', 'repos', 'aquel', 'extrañ', 'pajar', 'omin', 'mir', 'sin', 'ces', ',', 'ocup', 'el', 'divan', 'de', 'terciopel', 'do', 'junt', 'nos', 'sent', 'y', 'en', 'mi', 'duel', 'pens', 'que', 'ella', ',', 'nunc', 'en', 'este', 'suel', 'lo', 'ocup', 'mas', '.', 'entonc', 'pareciom', 'el', 'air', 'dens', 'con', 'el', 'arom', 'de', 'quem', 'inciens', 'de', 'un', 'invis', 'altar', ';', 'y', 'escuch', 'voc', 'repet', 'fervient', ':', 'olvid', 'a', 'leonor', ',', 'beb', 'el', 'nepenth', 'beb', 'el', 'olvid', 'en', 'sus', 'letal', 'fuent', ';', 'dij', 'el', 'cuerv', ':', '¡jamas', '!', 'profet', ',', 'dij', ',', 'augur', 'de', 'otras', 'edad', 'que', 'arroj', 'las', 'negr', 'tempestad', 'aqu', 'par', 'mi', 'mal', ',', 'huesp', 'de', 'esta', 'mor', 'de', 'tristur', ',', 'di', ',', 'fosc', 'engendr', 'de', 'la', 'noch', 'oscur', ',', 'si', 'un', 'balsam', 'habr', 'al', 'fin', 'a', 'mi', 'amargur', ':', 'dij', 'el', 'cuerv', ':', '¡jamas', '!', 'profet', ',', 'dij', ',', 'o', 'diabl', ',', 'infaust', 'cuerv', 'por', 'dios', ',', 'por', 'mi', ',', 'por', 'mi', 'dolor', 'acerb', ',', 'por', 'tu', 'pod', 'fatal', 'dim', 'si', 'algun', 'vez', 'a', 'leonor', 'volv', 'a', 'ver', 'en', 'la', 'eternal', 'auror', 'dond', 'feliz', 'con', 'los', 'querub', 'mor', ';', 'dij', 'el', 'cuerv', ':', '¡jamas', '!', 'sea', 'tal', 'palabr', 'la', 'postrer', 'retorn', 'a', 'la', 'pluton', 'river', ',', 'grit', ':', '¡no', 'vuelv', 'mas', ',', 'no', 'dej', 'ni', 'una', 'huell', ',', 'ni', 'una', 'plum', 'y', 'mi', 'espiritu', 'envuelt', 'en', 'dens', 'brum', 'libr', 'por', 'fin', 'el', 'pes', 'que', 'le', 'abrum', '!', 'dij', 'el', 'cuerv', ':', '¡jamas', '!', 'y', 'el', 'cuerv', 'inmovil', ',', 'funebr', 'y', 'adust', 'sig', 'siempr', 'de', 'pal', 'sobr', 'el', 'bust', 'y', 'baj', 'mi', 'fanal', ',', 'proyect', 'manch', 'lugubr', 'en', 'la', 'alfombr', 'y', 'su', 'mir', 'de', 'demoni', 'asombra…', '¡ay', '!', '¿mi', 'alma', 'enlut', 'de', 'su', 'sombr', 'se', 'libr', '?', '¡jamas', '!']\n"
     ]
    }
   ],
   "source": [
    "# stemming\n",
    "stemmer = SnowballStemmer('spanish')\n",
    "stems = [stemmer.stem(i) for i in word_tokenization]\n",
    "print(\"Stems: \",len(stems))\n",
    "print(stems)"
   ]
  },
  {
   "cell_type": "code",
   "execution_count": 6,
   "id": "e7b57495-d899-463e-ba15-667ebcafb6bd",
   "metadata": {},
   "outputs": [
    {
     "name": "stdout",
     "output_type": "stream",
     "text": [
      "Lexical richness:  0.5006289308176101\n"
     ]
    }
   ],
   "source": [
    "# lexical richness\n",
    "tokens_set = set(word_tokenization)\n",
    "total_tokens = len(word_tokenization)\n",
    "unique_tokens = len(tokens_set)\n",
    "\n",
    "lexical_richness = unique_tokens/total_tokens\n",
    "print(\"Lexical richness: \", lexical_richness)"
   ]
  },
  {
   "cell_type": "code",
   "execution_count": 7,
   "id": "a35cd9e3-a0f1-4e8d-a32d-b785390988cc",
   "metadata": {},
   "outputs": [
    {
     "name": "stdout",
     "output_type": "stream",
     "text": [
      "Concordancias de CUERVO:  12\n",
      "Concordancias de NUNCA:  1\n"
     ]
    }
   ],
   "source": [
    "# concordancias\n",
    "print(\"Concordancias de CUERVO: \",word_tokenization.count(\"cuervo\"))\n",
    "print(\"Concordancias de NUNCA: \",word_tokenization.count(\"nunca\"))"
   ]
  },
  {
   "cell_type": "code",
   "execution_count": null,
   "id": "ca48b4ef-51f4-4630-9656-087c0f03ff52",
   "metadata": {},
   "outputs": [],
   "source": []
  }
 ],
 "metadata": {
  "kernelspec": {
   "display_name": "Python 3 (ipykernel)",
   "language": "python",
   "name": "python3"
  },
  "language_info": {
   "codemirror_mode": {
    "name": "ipython",
    "version": 3
   },
   "file_extension": ".py",
   "mimetype": "text/x-python",
   "name": "python",
   "nbconvert_exporter": "python",
   "pygments_lexer": "ipython3",
   "version": "3.8.10"
  }
 },
 "nbformat": 4,
 "nbformat_minor": 5
}
