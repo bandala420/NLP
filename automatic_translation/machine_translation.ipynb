{
  "cells": [
    {
      "cell_type": "code",
      "execution_count": 2,
      "id": "6ed120c6-b26e-44b6-b290-aecd6f8d1ca1",
      "metadata": {
        "colab": {
          "base_uri": "https://localhost:8080/",
          "height": 568
        },
        "id": "6ed120c6-b26e-44b6-b290-aecd6f8d1ca1",
        "outputId": "fe853dcd-5608-4752-cde0-0d483c3c8f51"
      },
      "outputs": [
        {
          "output_type": "stream",
          "name": "stdout",
          "text": [
            "Looking in indexes: https://pypi.org/simple, https://us-python.pkg.dev/colab-wheels/public/simple/\n",
            "Collecting goslate\n",
            "  Downloading goslate-1.5.4.tar.gz (14 kB)\n",
            "Collecting futures\n",
            "  Downloading futures-3.0.5.tar.gz (25 kB)\n",
            "\u001b[33mWARNING: Discarding https://files.pythonhosted.org/packages/55/db/97c1ca37edab586a1ae03d6892b6633d8eaa23b23ac40c7e5bbc55423c78/futures-3.0.5.tar.gz#sha256=0542525145d5afc984c88f914a0c85c77527f65946617edb5274f72406f981df (from https://pypi.org/simple/futures/). Command errored out with exit status 1: python setup.py egg_info Check the logs for full command output.\u001b[0m\n",
            "  Downloading futures-3.0.4.tar.gz (25 kB)\n",
            "\u001b[33mWARNING: Discarding https://files.pythonhosted.org/packages/8d/73/b5fff618482bc06c9711e7cdc0d5d7eb1904d35898f48f2d7f9696b08bef/futures-3.0.4.tar.gz#sha256=19485d83f7bd2151c0aeaf88fbba3ee50dadfb222ffc3b66a344ef4952b782a3 (from https://pypi.org/simple/futures/). Command errored out with exit status 1: python setup.py egg_info Check the logs for full command output.\u001b[0m\n",
            "  Downloading futures-3.0.3.tar.gz (24 kB)\n",
            "\u001b[33mWARNING: Discarding https://files.pythonhosted.org/packages/4c/dc/f9473006d4c9c52d4a4e977173fbcbfb1a8ef3a57e32e885edf994fd4a45/futures-3.0.3.tar.gz#sha256=2fe2342bb4fe8b8e217f0d21b5921cbe5408bf966d9f92025e707e881b198bed (from https://pypi.org/simple/futures/). Command errored out with exit status 1: python setup.py egg_info Check the logs for full command output.\u001b[0m\n",
            "  Downloading futures-3.0.2.tar.gz (24 kB)\n",
            "\u001b[33mWARNING: Discarding https://files.pythonhosted.org/packages/f8/e7/fc0fcbeb9193ba2d4de00b065e7fd5aecd0679e93ce95a07322b2b1434f4/futures-3.0.2.tar.gz#sha256=dc3fc91508e49e0fd2f8625f0132d16e49c80f882e7e1d565c56b0d5dfbae257 (from https://pypi.org/simple/futures/). Command errored out with exit status 1: python setup.py egg_info Check the logs for full command output.\u001b[0m\n",
            "  Downloading futures-3.0.1.tar.gz (24 kB)\n",
            "\u001b[33mWARNING: Discarding https://files.pythonhosted.org/packages/b2/2c/6b6a57379e47031c6f52e625e0e2b8f6702a8d1f61b6e0daee391e82c187/futures-3.0.1.tar.gz#sha256=f78f2ef458639d72a625cf9c7643cf5442bb222ac11c12bcc445c6ad1cd862e2 (from https://pypi.org/simple/futures/). Command errored out with exit status 1: python setup.py egg_info Check the logs for full command output.\u001b[0m\n",
            "  Downloading futures-3.0.0.tar.gz (24 kB)\n",
            "\u001b[33mWARNING: Discarding https://files.pythonhosted.org/packages/ea/c9/35287369718fc05059e7a9d0d73c53745fe981010b4185b3858e7d46eff1/futures-3.0.0.tar.gz#sha256=d9cd7bb09aa01f0e4940af64c31fbd7045098b7b4354420d7838ea39e8b86ee3 (from https://pypi.org/simple/futures/). Command errored out with exit status 1: python setup.py egg_info Check the logs for full command output.\u001b[0m\n",
            "  Downloading futures-2.2.0-py2.py3-none-any.whl (16 kB)\n",
            "Building wheels for collected packages: goslate\n",
            "  Building wheel for goslate (setup.py) ... \u001b[?25l\u001b[?25hdone\n",
            "  Created wheel for goslate: filename=goslate-1.5.4-py3-none-any.whl size=11597 sha256=a2d9dd3fcf3145d291552d07b140fb260d71693254e4ea33f067b0a2cd160033\n",
            "  Stored in directory: /root/.cache/pip/wheels/7e/08/d5/88fc81ecccbff86db9b3dac7ca657c2cc64b5d10db421bd2a2\n",
            "Successfully built goslate\n",
            "Installing collected packages: futures, goslate\n",
            "Successfully installed futures-2.2.0 goslate-1.5.4\n"
          ]
        },
        {
          "output_type": "display_data",
          "data": {
            "application/vnd.colab-display-data+json": {
              "pip_warning": {
                "packages": [
                  "concurrent"
                ]
              }
            }
          },
          "metadata": {}
        }
      ],
      "source": [
        "# Daniel Bandala @ nov-2022\n",
        "!pip install goslate\n",
        "import goslate"
      ]
    },
    {
      "cell_type": "code",
      "execution_count": 3,
      "id": "7dc3ff87-116c-4413-860a-047b0b8b75e7",
      "metadata": {
        "id": "7dc3ff87-116c-4413-860a-047b0b8b75e7"
      },
      "outputs": [],
      "source": [
        "gs = goslate.Goslate()"
      ]
    },
    {
      "cell_type": "code",
      "execution_count": 4,
      "id": "b6c5d2b8-81f7-40f9-adff-2eedc7189f21",
      "metadata": {
        "colab": {
          "base_uri": "https://localhost:8080/"
        },
        "id": "b6c5d2b8-81f7-40f9-adff-2eedc7189f21",
        "outputId": "56d07cda-9520-4808-c236-a98e2d293f4f"
      },
      "outputs": [
        {
          "output_type": "stream",
          "name": "stdout",
          "text": [
            "Hallo Welt\n"
          ]
        }
      ],
      "source": [
        "print(gs.translate('hello world', 'de'))"
      ]
    },
    {
      "cell_type": "code",
      "execution_count": 5,
      "id": "52d5eb20-41dc-4b26-b963-6646a254d8dd",
      "metadata": {
        "colab": {
          "base_uri": "https://localhost:8080/"
        },
        "id": "52d5eb20-41dc-4b26-b963-6646a254d8dd",
        "outputId": "98442792-9fac-4bf8-9a57-e0dd1b2159e3"
      },
      "outputs": [
        {
          "output_type": "stream",
          "name": "stdout",
          "text": [
            "nutze den Tag\n"
          ]
        }
      ],
      "source": [
        "print(gs.translate('carpe diem', 'de'))"
      ]
    },
    {
      "cell_type": "code",
      "execution_count": 6,
      "id": "3fa3414c-2155-406d-90bf-66f93c20fef4",
      "metadata": {
        "colab": {
          "base_uri": "https://localhost:8080/"
        },
        "id": "3fa3414c-2155-406d-90bf-66f93c20fef4",
        "outputId": "d782bc27-8f4e-46e0-f60d-8e235466a081"
      },
      "outputs": [
        {
          "output_type": "stream",
          "name": "stdout",
          "text": [
            "Carpe Diem\n"
          ]
        }
      ],
      "source": [
        "print(gs.translate('carpe diem', 'en'))"
      ]
    },
    {
      "cell_type": "code",
      "execution_count": 7,
      "id": "ead4abbd-3724-4a5d-b6dd-05d009e05ce0",
      "metadata": {
        "colab": {
          "base_uri": "https://localhost:8080/"
        },
        "id": "ead4abbd-3724-4a5d-b6dd-05d009e05ce0",
        "outputId": "edfad5cb-75df-4bcc-e0b7-6dcf18705c4d"
      },
      "outputs": [
        {
          "output_type": "stream",
          "name": "stdout",
          "text": [
            "Carpe Diem\n"
          ]
        }
      ],
      "source": [
        "print(gs.translate('carpe diem', 'sp'))"
      ]
    },
    {
      "cell_type": "code",
      "execution_count": 8,
      "id": "45ed49a4-fbf3-4281-93cd-3c47771f0829",
      "metadata": {
        "colab": {
          "base_uri": "https://localhost:8080/"
        },
        "id": "45ed49a4-fbf3-4281-93cd-3c47771f0829",
        "outputId": "d11864f7-1c3d-44b3-b486-21115af63467"
      },
      "outputs": [
        {
          "output_type": "stream",
          "name": "stdout",
          "text": [
            "Carpe Diem\n"
          ]
        }
      ],
      "source": [
        "print(gs.translate('carpe diem', 'jp'))"
      ]
    },
    {
      "cell_type": "code",
      "execution_count": null,
      "id": "1f0f41c7-87bd-4d6d-a9f6-b416d03c9b29",
      "metadata": {
        "id": "1f0f41c7-87bd-4d6d-a9f6-b416d03c9b29"
      },
      "outputs": [],
      "source": []
    }
  ],
  "metadata": {
    "kernelspec": {
      "display_name": "Python 3 (ipykernel)",
      "language": "python",
      "name": "python3"
    },
    "language_info": {
      "codemirror_mode": {
        "name": "ipython",
        "version": 3
      },
      "file_extension": ".py",
      "mimetype": "text/x-python",
      "name": "python",
      "nbconvert_exporter": "python",
      "pygments_lexer": "ipython3",
      "version": "3.8.10"
    },
    "colab": {
      "provenance": []
    }
  },
  "nbformat": 4,
  "nbformat_minor": 5
}