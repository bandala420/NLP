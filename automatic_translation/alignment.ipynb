{
 "cells": [
  {
   "cell_type": "code",
   "execution_count": 1,
   "id": "a08862f5-d7d7-45b8-8ee1-1e8201284a3d",
   "metadata": {},
   "outputs": [],
   "source": [
    "from nltk.translate import AlignedSent, Alignment"
   ]
  },
  {
   "cell_type": "code",
   "execution_count": 2,
   "id": "dfdd9802-4b69-4c85-a6dc-0bc8f879102a",
   "metadata": {},
   "outputs": [
    {
     "name": "stdout",
     "output_type": "stream",
     "text": [
      "['klein', 'ist', 'das', 'Haus']\n",
      "['the', 'house', 'is', 'small']\n",
      "0-2 1-3 2-1 3-0\n"
     ]
    }
   ],
   "source": [
    "algnsent = AlignedSent(['klein', 'ist', 'das',\n",
    "'Haus'],['the', 'house', 'is',\n",
    "'small'],Alignment.fromstring('0-2 1-3 2-1 3-0'))\n",
    "print (algnsent.words)\n",
    "print (algnsent.mots)\n",
    "print (algnsent.alignment)"
   ]
  },
  {
   "cell_type": "code",
   "execution_count": null,
   "id": "4063d1d8-d2d0-4422-b382-d1ec6a99bc62",
   "metadata": {},
   "outputs": [],
   "source": []
  }
 ],
 "metadata": {
  "kernelspec": {
   "display_name": "Python 3 (ipykernel)",
   "language": "python",
   "name": "python3"
  },
  "language_info": {
   "codemirror_mode": {
    "name": "ipython",
    "version": 3
   },
   "file_extension": ".py",
   "mimetype": "text/x-python",
   "name": "python",
   "nbconvert_exporter": "python",
   "pygments_lexer": "ipython3",
   "version": "3.8.10"
  }
 },
 "nbformat": 4,
 "nbformat_minor": 5
}
