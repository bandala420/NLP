{
 "cells": [
  {
   "cell_type": "code",
   "execution_count": 1,
   "id": "47982669-c6f3-4cd4-a08b-144968a4e840",
   "metadata": {},
   "outputs": [],
   "source": [
    "# Daniel Bandala @ nov 2022\n",
    "import numpy as np\n",
    "from nltk.tokenize import word_tokenize\n",
    "from nltk.stem import PorterStemmer"
   ]
  },
  {
   "cell_type": "code",
   "execution_count": 2,
   "id": "5dd12d29-85c0-4993-85c3-0d1cd5753b49",
   "metadata": {},
   "outputs": [],
   "source": [
    "with open('hamlet.txt', 'r') as file:\n",
    "    hamlet = file.read().replace('\\n', ' ').rstrip().lower()\n",
    "with open('juliuscaesar.txt', 'r') as file:\n",
    "    juliuscaesar = file.read().replace('\\n', ' ').rstrip().lower()\n",
    "with open('macbeth.txt', 'r') as file:\n",
    "    macbeth = file.read().replace('\\n', ' ').rstrip().lower()\n",
    "with open('othello.txt', 'r') as file:\n",
    "    othello = file.read().replace('\\n', ' ').rstrip().lower()"
   ]
  },
  {
   "cell_type": "code",
   "execution_count": 3,
   "id": "ad800fda-4b38-4128-ae23-9777d1d9cb10",
   "metadata": {},
   "outputs": [
    {
     "name": "stdout",
     "output_type": "stream",
     "text": [
      "Tokens document hamlet:  40485\n",
      "Tokens document juliuscaesar:  26513\n",
      "Tokens document macbeth:  23232\n",
      "Tokens document othello:  36599\n"
     ]
    }
   ],
   "source": [
    "# tokenization\n",
    "hamlet_tok = word_tokenize(hamlet)\n",
    "juliuscaesar_tok = word_tokenize(juliuscaesar)\n",
    "macbeth_tok = word_tokenize(macbeth)\n",
    "othello_tok = word_tokenize(othello)\n",
    "print(\"Tokens document hamlet: \",len(hamlet_tok))\n",
    "print(\"Tokens document juliuscaesar: \",len(juliuscaesar_tok))\n",
    "print(\"Tokens document macbeth: \",len(macbeth_tok))\n",
    "print(\"Tokens document othello: \",len(othello_tok))"
   ]
  },
  {
   "cell_type": "code",
   "execution_count": 4,
   "id": "562ac09a-4de1-43bc-889b-fc2fa10ac5f6",
   "metadata": {},
   "outputs": [
    {
     "name": "stdout",
     "output_type": "stream",
     "text": [
      "Stems document hamlet:  40485\n",
      "Stems document juliuscaesar:  26513\n",
      "Stems document macbeth:  23232\n",
      "Stems document othello:  36599\n"
     ]
    }
   ],
   "source": [
    "# stemming\n",
    "stemmer = PorterStemmer()\n",
    "hamlet_stem = [stemmer.stem(i) for i in hamlet_tok]\n",
    "juliuscaesar_stem = [stemmer.stem(i) for i in juliuscaesar_tok]\n",
    "macbeth_stem = [stemmer.stem(i) for i in macbeth_tok]\n",
    "othello_stem = [stemmer.stem(i) for i in othello_tok]\n",
    "print(\"Stems document hamlet: \",len(hamlet_stem))\n",
    "print(\"Stems document juliuscaesar: \",len(juliuscaesar_stem))\n",
    "print(\"Stems document macbeth: \",len(macbeth_stem))\n",
    "print(\"Stems document othello: \",len(othello_stem))"
   ]
  },
  {
   "cell_type": "code",
   "execution_count": 6,
   "id": "486825f8-77bd-4bb7-82b1-7d9b2ff09c85",
   "metadata": {},
   "outputs": [
    {
     "name": "stdout",
     "output_type": "stream",
     "text": [
      "Global vocabulary size:  8838\n"
     ]
    }
   ],
   "source": [
    "# retrieve bag of words\n",
    "words_bag = sorted(set(hamlet_tok).union(set(juliuscaesar_tok)).union(set(macbeth_tok)).union(set(othello_tok)))\n",
    "print(\"Global vocabulary size: \",len(words_bag))"
   ]
  },
  {
   "cell_type": "code",
   "execution_count": 7,
   "id": "e6839105-a2ff-48fa-8d20-77097b9aa61f",
   "metadata": {},
   "outputs": [],
   "source": [
    "# conditioning\n",
    "docs = [hamlet_tok,juliuscaesar_tok,macbeth_tok,othello_tok]\n",
    "C = len(docs)\n",
    "W = len(words_bag)"
   ]
  },
  {
   "cell_type": "code",
   "execution_count": 8,
   "id": "17e2a32e-7ba8-4870-ad99-00714a96b545",
   "metadata": {},
   "outputs": [
    {
     "name": "stdout",
     "output_type": "stream",
     "text": [
      "Global vocabulary size:  (4, 8838)\n"
     ]
    }
   ],
   "source": [
    "# number of occurrences\n",
    "words_vec = np.array([[docs[j].count(words_bag[i]) for i in range(W)] for j in range(C)])\n",
    "print(\"Global vocabulary size: \",words_vec.shape)"
   ]
  },
  {
   "cell_type": "code",
   "execution_count": 9,
   "id": "b82e1bfb-a759-4343-9cb3-6c341e5f3ea6",
   "metadata": {},
   "outputs": [
    {
     "name": "stdout",
     "output_type": "stream",
     "text": [
      "Words bag distance between Hamlet and Julius Caesar:  1857.9499455044531\n",
      "Words bag distance between Hamlet and Julius Macbeth:  2296.975620245021\n",
      "Words bag distance between Hamlet and Julius Othello:  1492.5809860774725\n",
      "Words bag distance between Julius Caesar and Macbeth:  972.3800697258248\n",
      "Words bag distance between Julius Caesar and Othello:  1566.3799028332814\n",
      "Words bag distance between Macbeth and Othello:  1920.467911734013\n"
     ]
    }
   ],
   "source": [
    "# calculate distance\n",
    "print(\"Words bag distance between Hamlet and Julius Caesar: \", np.linalg.norm(words_vec[0]-words_vec[1]))\n",
    "print(\"Words bag distance between Hamlet and Julius Macbeth: \", np.linalg.norm(words_vec[0]-words_vec[2]))\n",
    "print(\"Words bag distance between Hamlet and Julius Othello: \", np.linalg.norm(words_vec[0]-words_vec[3]))\n",
    "print(\"Words bag distance between Julius Caesar and Macbeth: \", np.linalg.norm(words_vec[1]-words_vec[2]))\n",
    "print(\"Words bag distance between Julius Caesar and Othello: \", np.linalg.norm(words_vec[1]-words_vec[3]))\n",
    "print(\"Words bag distance between Macbeth and Othello: \", np.linalg.norm(words_vec[2]-words_vec[3]))"
   ]
  },
  {
   "cell_type": "code",
   "execution_count": null,
   "id": "c22626c1-0479-48d4-ae01-0afd2b5ae060",
   "metadata": {},
   "outputs": [],
   "source": []
  }
 ],
 "metadata": {
  "kernelspec": {
   "display_name": "Python 3 (ipykernel)",
   "language": "python",
   "name": "python3"
  },
  "language_info": {
   "codemirror_mode": {
    "name": "ipython",
    "version": 3
   },
   "file_extension": ".py",
   "mimetype": "text/x-python",
   "name": "python",
   "nbconvert_exporter": "python",
   "pygments_lexer": "ipython3",
   "version": "3.8.10"
  }
 },
 "nbformat": 4,
 "nbformat_minor": 5
}
