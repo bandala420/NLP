{
 "cells": [
  {
   "cell_type": "code",
   "execution_count": 1,
   "id": "47982669-c6f3-4cd4-a08b-144968a4e840",
   "metadata": {},
   "outputs": [],
   "source": [
    "# Daniel Bandala @ nov 2022\n",
    "from nltk.tokenize import word_tokenize\n",
    "from nltk.stem import PorterStemmer"
   ]
  },
  {
   "cell_type": "code",
   "execution_count": 2,
   "id": "5dd12d29-85c0-4993-85c3-0d1cd5753b49",
   "metadata": {},
   "outputs": [],
   "source": [
    "with open('hamlet.txt', 'r') as file:\n",
    "    hamlet = file.read().replace('\\n', ' ').rstrip().lower()\n",
    "with open('juliuscaesar.txt', 'r') as file:\n",
    "    juliuscaesar = file.read().replace('\\n', ' ').rstrip().lower()\n",
    "with open('macbeth.txt', 'r') as file:\n",
    "    macbeth = file.read().replace('\\n', ' ').rstrip().lower()\n",
    "with open('othello.txt', 'r') as file:\n",
    "    othello = file.read().replace('\\n', ' ').rstrip().lower()"
   ]
  },
  {
   "cell_type": "code",
   "execution_count": 3,
   "id": "ad800fda-4b38-4128-ae23-9777d1d9cb10",
   "metadata": {},
   "outputs": [
    {
     "name": "stdout",
     "output_type": "stream",
     "text": [
      "Tokens document hamlet:  40485\n",
      "Tokens document juliuscaesar:  26513\n",
      "Tokens document macbeth:  23232\n",
      "Tokens document othello:  36599\n"
     ]
    }
   ],
   "source": [
    "# tokenization\n",
    "hamlet_tok = word_tokenize(hamlet)\n",
    "juliuscaesar_tok = word_tokenize(juliuscaesar)\n",
    "macbeth_tok = word_tokenize(macbeth)\n",
    "othello_tok = word_tokenize(othello)\n",
    "print(\"Tokens document hamlet: \",len(hamlet_tok))\n",
    "print(\"Tokens document juliuscaesar: \",len(juliuscaesar_tok))\n",
    "print(\"Tokens document macbeth: \",len(macbeth_tok))\n",
    "print(\"Tokens document othello: \",len(othello_tok))"
   ]
  },
  {
   "cell_type": "code",
   "execution_count": 4,
   "id": "562ac09a-4de1-43bc-889b-fc2fa10ac5f6",
   "metadata": {},
   "outputs": [
    {
     "name": "stdout",
     "output_type": "stream",
     "text": [
      "Stems document hamlet:  40485\n",
      "Stems document juliuscaesar:  26513\n",
      "Stems document macbeth:  23232\n",
      "Stems document macbeth:  36599\n"
     ]
    }
   ],
   "source": [
    "# stemming\n",
    "stemmer = PorterStemmer()\n",
    "hamlet_stem = [stemmer.stem(i) for i in hamlet_tok]\n",
    "juliuscaesar_stem = [stemmer.stem(i) for i in juliuscaesar_tok]\n",
    "macbeth_stem = [stemmer.stem(i) for i in macbeth_tok]\n",
    "othello_stem = [stemmer.stem(i) for i in othello_tok]\n",
    "print(\"Stems document hamlet: \",len(hamlet_stem))\n",
    "print(\"Stems document juliuscaesar: \",len(juliuscaesar_stem))\n",
    "print(\"Stems document macbeth: \",len(macbeth_stem))\n",
    "print(\"Stems document macbeth: \",len(othello_stem))"
   ]
  },
  {
   "cell_type": "code",
   "execution_count": 5,
   "id": "486825f8-77bd-4bb7-82b1-7d9b2ff09c85",
   "metadata": {},
   "outputs": [
    {
     "name": "stdout",
     "output_type": "stream",
     "text": [
      "Global vocabulary size:  6562\n"
     ]
    }
   ],
   "source": [
    "# retrieve global vocabulary - convert to list\n",
    "glob_words = sorted(set(hamlet_stem).union(set(juliuscaesar_stem)).union(set(macbeth_stem)).union(set(othello_stem)))\n",
    "print(\"Global vocabulary size: \",len(glob_words))"
   ]
  },
  {
   "cell_type": "code",
   "execution_count": 6,
   "id": "e6839105-a2ff-48fa-8d20-77097b9aa61f",
   "metadata": {},
   "outputs": [],
   "source": [
    "# conditioning\n",
    "words = [\"caesar\", \"brutus\"]\n",
    "docs = [hamlet_tok,juliuscaesar_tok,macbeth_tok,othello_tok]\n",
    "C = len(docs)\n",
    "W = len(words)"
   ]
  },
  {
   "cell_type": "code",
   "execution_count": 7,
   "id": "17e2a32e-7ba8-4870-ad99-00714a96b545",
   "metadata": {},
   "outputs": [
    {
     "data": {
      "text/plain": [
       "[[2, 1], [267, 361], [1, 0], [1, 0]]"
      ]
     },
     "execution_count": 7,
     "metadata": {},
     "output_type": "execute_result"
    }
   ],
   "source": [
    "# number of occurrences\n",
    "words_freq = [[docs[j].count(words[i]) for i in range(W)] for j in range(C)]\n",
    "words_freq"
   ]
  },
  {
   "cell_type": "code",
   "execution_count": 8,
   "id": "868d2e4d-b1a1-416d-bf6e-7126e037baf8",
   "metadata": {},
   "outputs": [
    {
     "data": {
      "text/plain": [
       "[2, 361, 1, 1]"
      ]
     },
     "execution_count": 8,
     "metadata": {},
     "output_type": "execute_result"
    }
   ],
   "source": [
    "# max occurrences\n",
    "max_words_freq = [max(max(words_freq[i]),1) for i in range(C)]\n",
    "max_words_freq"
   ]
  },
  {
   "cell_type": "code",
   "execution_count": 9,
   "id": "e7b57495-d899-463e-ba15-667ebcafb6bd",
   "metadata": {},
   "outputs": [
    {
     "name": "stdout",
     "output_type": "stream",
     "text": [
      "Frequency matrix\n",
      " doc1 \t doc2 \t doc3 \t doc4 \n",
      "1.0\t0.7396\t1.0\t1.0\n",
      "0.5\t1.0\t0.0\t0.0\n"
     ]
    }
   ],
   "source": [
    "# term frequency matrix\n",
    "tf = [[docs[j].count(words[i])/max_words_freq[j] for j in range(C)] for i in range(W)]\n",
    "print(\"Frequency matrix\\n doc1 \\t doc2 \\t doc3 \\t doc4 \\n\"+'\\n'.join(['\\t'.join([str(round(cell,4)) for cell in row]) for row in tf]))"
   ]
  },
  {
   "cell_type": "code",
   "execution_count": 10,
   "id": "d8000cb9-86ed-4193-8cc6-bdcd9c29b5c8",
   "metadata": {},
   "outputs": [],
   "source": [
    "# calculate distance between words\n",
    "word_distance = (tf[0][0]-tf[1][0])**2+(tf[0][1]-tf[1][1])**2+(tf[0][2]-tf[1][2])**2+(tf[0][3]-tf[1][3])**2"
   ]
  },
  {
   "cell_type": "code",
   "execution_count": 11,
   "id": "1ce6088f-1c6c-4f45-92ec-6174e791c862",
   "metadata": {},
   "outputs": [
    {
     "name": "stdout",
     "output_type": "stream",
     "text": [
      "Eclidean distance between caesar and brutus: 2.3178018124477253\n"
     ]
    }
   ],
   "source": [
    "print(\"Eclidean distance between \"+words[0]+\" and \"+words[1]+\": \"+str(word_distance))"
   ]
  },
  {
   "cell_type": "code",
   "execution_count": null,
   "id": "c22626c1-0479-48d4-ae01-0afd2b5ae060",
   "metadata": {},
   "outputs": [],
   "source": []
  }
 ],
 "metadata": {
  "kernelspec": {
   "display_name": "Python 3 (ipykernel)",
   "language": "python",
   "name": "python3"
  },
  "language_info": {
   "codemirror_mode": {
    "name": "ipython",
    "version": 3
   },
   "file_extension": ".py",
   "mimetype": "text/x-python",
   "name": "python",
   "nbconvert_exporter": "python",
   "pygments_lexer": "ipython3",
   "version": "3.8.10"
  }
 },
 "nbformat": 4,
 "nbformat_minor": 5
}
