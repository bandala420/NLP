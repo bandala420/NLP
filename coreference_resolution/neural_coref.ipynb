{
 "cells": [
  {
   "cell_type": "code",
   "execution_count": 1,
   "id": "24d9417a-5387-4d32-b642-395eaf368aae",
   "metadata": {},
   "outputs": [
    {
     "name": "stderr",
     "output_type": "stream",
     "text": [
      "<frozen importlib._bootstrap>:219: RuntimeWarning: spacy.morphology.Morphology size changed, may indicate binary incompatibility. Expected 104 from C header, got 112 from PyObject\n",
      "<frozen importlib._bootstrap>:219: RuntimeWarning: spacy.vocab.Vocab size changed, may indicate binary incompatibility. Expected 96 from C header, got 112 from PyObject\n",
      "<frozen importlib._bootstrap>:219: RuntimeWarning: spacy.tokens.span.Span size changed, may indicate binary incompatibility. Expected 72 from C header, got 80 from PyObject\n"
     ]
    }
   ],
   "source": [
    "# Daniel Bandala @ oct 2022\n",
    "import spacy\n",
    "import neuralcoref"
   ]
  },
  {
   "cell_type": "markdown",
   "id": "6e1b6db0-42e2-489c-9434-94bee3dc80b3",
   "metadata": {},
   "source": [
    "# Correference resolution\n",
    "Coreference resolution is the task of finding all referring expressions like — (he, I, that, this…, or any subject or noun) is referred to which entity (referents like any person, thing, subject etc...)"
   ]
  },
  {
   "cell_type": "code",
   "execution_count": 2,
   "id": "2f3b23a0-7127-46bf-a51c-c197450b6db6",
   "metadata": {},
   "outputs": [],
   "source": [
    "nlp = spacy.load('en_core_web_sm')  # load the model"
   ]
  },
  {
   "cell_type": "code",
   "execution_count": 3,
   "id": "c48c5d67-cdbd-44ea-bbc5-b054405b971b",
   "metadata": {},
   "outputs": [
    {
     "data": {
      "text/plain": [
       "<spacy.lang.en.English at 0x7f8e1d7c6400>"
      ]
     },
     "execution_count": 3,
     "metadata": {},
     "output_type": "execute_result"
    }
   ],
   "source": [
    "neuralcoref.add_to_pipe(nlp)"
   ]
  },
  {
   "cell_type": "code",
   "execution_count": 4,
   "id": "89baedfb-8c01-4341-9abd-80b4a0cb4f10",
   "metadata": {},
   "outputs": [],
   "source": [
    "text = \"Joseph Robinette Biden Jr. is an American politician who is the 46th and\\\n",
    "current president of the United States. A member of the Democratic Party, \\\n",
    "he served as the 47th vice president from 2009 to 2017 under Barack Obama and\\\n",
    "represented Delaware in the United States Senate from 1973 to 2009.\""
   ]
  },
  {
   "cell_type": "code",
   "execution_count": null,
   "id": "5effaf03-1a8a-4c8c-92c6-687505919185",
   "metadata": {},
   "outputs": [],
   "source": [
    "doc = nlp(text)  # get the spaCy Doc (composed of Tokens)"
   ]
  },
  {
   "cell_type": "code",
   "execution_count": null,
   "id": "f58ce5f0-84e0-479a-b728-b9c620b2e7fd",
   "metadata": {},
   "outputs": [],
   "source": [
    "print(doc._.coref_clusters)  # You can see cluster of similar mentions"
   ]
  },
  {
   "cell_type": "code",
   "execution_count": null,
   "id": "1a44f32c-8a0c-4867-8727-278594040110",
   "metadata": {},
   "outputs": [],
   "source": [
    "print(doc._.coref_resolved)"
   ]
  },
  {
   "cell_type": "code",
   "execution_count": null,
   "id": "8efef28b-85ac-47f5-98c2-a8f1f181ff82",
   "metadata": {},
   "outputs": [],
   "source": []
  }
 ],
 "metadata": {
  "kernelspec": {
   "display_name": "Python 3 (ipykernel)",
   "language": "python",
   "name": "python3"
  },
  "language_info": {
   "codemirror_mode": {
    "name": "ipython",
    "version": 3
   },
   "file_extension": ".py",
   "mimetype": "text/x-python",
   "name": "python",
   "nbconvert_exporter": "python",
   "pygments_lexer": "ipython3",
   "version": "3.8.10"
  }
 },
 "nbformat": 4,
 "nbformat_minor": 5
}
