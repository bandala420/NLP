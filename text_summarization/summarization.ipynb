{
 "cells": [
  {
   "cell_type": "code",
   "execution_count": 1,
   "id": "5a916ef7-a0ce-489c-b02e-5739972dcd84",
   "metadata": {},
   "outputs": [],
   "source": [
    "# Daniel Bandala @ dic 2022\n",
    "from nltk.tokenize import sent_tokenize,word_tokenize\n",
    "from nltk.corpus import stopwords\n",
    "from collections import defaultdict\n",
    "from string import punctuation\n",
    "from heapq import nlargest\n",
    "import urllib.request\n",
    "from bs4 import BeautifulSoup"
   ]
  },
  {
   "cell_type": "code",
   "execution_count": 7,
   "id": "46d1eda8-cd4e-484d-bf2c-2ca6f37764a0",
   "metadata": {},
   "outputs": [],
   "source": [
    "class FrequencySummarizer:\n",
    "    def __init__(self, min_cut=0.1, max_cut=0.9):\n",
    "        \"\"\"\n",
    "        Initilize the text summarizer.\n",
    "        Words that have a frequency term lower than min_cut\n",
    "        or higer than max_cut will be ignored.\n",
    "        \"\"\"\n",
    "        self._min_cut = min_cut\n",
    "        self._max_cut = max_cut\n",
    "        self._stopwords = set(stopwords.words('english') +\n",
    "        list(punctuation))\n",
    "    \n",
    "    def _compute_frequencies(self, word_sent):\n",
    "        \"\"\"\n",
    "            Compute the frequency of each of word.\n",
    "            Input:\n",
    "            word_sent, a list of sentences already tokenized.\n",
    "            Output:\n",
    "            freq, a dictionary where freq[w] is the frequency of w.\n",
    "        \"\"\"\n",
    "        freq = defaultdict(int)\n",
    "        for s in word_sent:\n",
    "            for word in s:\n",
    "                if word not in self._stopwords:\n",
    "                    freq[word] += 1\n",
    "        # frequencies normalization and fitering\n",
    "        m = float(max(freq.values()))\n",
    "        for w in list(freq.keys()):\n",
    "            freq[w] = freq[w]/m\n",
    "            if freq[w] >= self._max_cut or freq[w] <= self._min_cut:\n",
    "                del freq[w]\n",
    "        return freq\n",
    "    \n",
    "    def summarize(self, text, n):\n",
    "        \"\"\"\n",
    "            Return a list of n sentences\n",
    "            which represent the summary of text.\n",
    "        \"\"\"\n",
    "        sents = sent_tokenize(text)\n",
    "        assert n <= len(sents)\n",
    "        word_sent = [word_tokenize(s.lower()) for s in sents]\n",
    "        self._freq = self._compute_frequencies(word_sent)\n",
    "        ranking = defaultdict(int)\n",
    "        for i,sent in enumerate(word_sent):\n",
    "            for w in sent:\n",
    "                if w in self._freq:\n",
    "                    ranking[i] += self._freq[w]\n",
    "        sents_idx = self._rank(ranking, n)\n",
    "        return [sents[j] for j in sents_idx]\n",
    "    \n",
    "    def _rank(self, ranking, n):\n",
    "        \"\"\" return the first n sentences with highest ranking \"\"\"\n",
    "        return nlargest(n, ranking, key=ranking.get)"
   ]
  },
  {
   "cell_type": "code",
   "execution_count": 8,
   "id": "ebb8b348-a073-4d08-8836-e4ac3b26c9e2",
   "metadata": {},
   "outputs": [],
   "source": [
    "def get_only_text(url):\n",
    "    \"\"\" \n",
    "        return the title and the text of the article\n",
    "        at the specified url\n",
    "    \"\"\"\n",
    "    #page = urllib2.urlopen(url).read().decode('utf8')\n",
    "    page = []\n",
    "    for line in urllib.request.urlopen(url):\n",
    "        page.append(line.decode('utf-8'))\n",
    "    page = ' '.join(page)\n",
    "    soup = BeautifulSoup(page)\n",
    "    text = ' '.join(map(lambda p: p.text, soup.find_all('p')))\n",
    "    return soup.title.text, text"
   ]
  },
  {
   "cell_type": "code",
   "execution_count": 12,
   "id": "10779055-e169-4e29-b4b8-70c125798091",
   "metadata": {},
   "outputs": [],
   "source": [
    "feed_xml = []\n",
    "for line in urllib.request.urlopen('https://news.un.org/feed/subscribe/en/news/topic/climate-change/feed/rss.xml'): #http://feeds.bbci.co.uk/news/rss.xml\n",
    "    feed_xml.append(line.decode('utf-8'))\n",
    "feed_xml = ' '.join(feed_xml)\n",
    "feed = BeautifulSoup(feed_xml)\n",
    "to_summarize = map(lambda p: p.text, feed.find_all('guid'))"
   ]
  },
  {
   "cell_type": "code",
   "execution_count": 13,
   "id": "b8b39d9a-4c93-48c6-aff5-6caba93942e4",
   "metadata": {},
   "outputs": [],
   "source": [
    "fs = FrequencySummarizer()"
   ]
  },
  {
   "cell_type": "code",
   "execution_count": 14,
   "id": "dd3b514f-d396-4da3-bb74-c59f7ce4104b",
   "metadata": {},
   "outputs": [
    {
     "name": "stdout",
     "output_type": "stream",
     "text": [
      "----------------------------------\n",
      "UN appeals for record $51.5 billion to help 230 million on the brink in 2023 | UN News\n",
      "* Turning to the threat of famine, he said that five countries “are already experiencing what we call famine-like conditions, where we can confidently and unhappily say that people are dying as a result - and it tends to be children – of displacement, food insecurity, lack of food, starvation.” In 2023, 45 million people in 37 countries risk starvation, according to the Global Humanitarian Overview.\n",
      "* “I fear that 2023 is going to be an acceleration of all those trends, and that’s why we say … that we hope 2023 will be a year of solidarity, just as 2022 has been a year of suffering.” Speaking in Geneva at the launch of the Global Humanitarian Overview report 2023, Mr. Griffiths described the appeal as a “lifeline” for people on the brink.\n",
      "----------------------------------\n",
      "Large parts of world drier than normal in 2021: WMO | UN News\n",
      "* “The impacts of climate change are often felt through water – more intense and frequent droughts, more extreme flooding, more erratic seasonal rainfall and accelerated melting of glaciers – with cascading effects on economies, ecosystems and all aspects of our daily lives”, said WMO Secretary-General Prof. Petteri Taalas.\n",
      "* Facebook\n",
      " Twitter\n",
      " Print\n",
      " Email\n",
      "  Most of the globe was drier than normal in 2021, with “cascading effects on economies, ecosystems and our daily lives”, the UN World Meteorological Organization (WMO) said on Tuesday.\n",
      "----------------------------------\n",
      "UNEP honours five protectors of Mother Earth | UN News\n",
      "* UNEP’s annual Champions of the Earth award is the UN’s highest environmental honour, which recognizes individuals and organizations from a number of fields, including civil society, academia and the private sector, that are blazing a trail in protecting our natural world.\n",
      "* Meanwhile, Cécile Bibiane Ndjebet, co-founder of Cameroon Ecology and President of the African Women’s Network for Community Management of Forests, was recognized for her work in repairing damage caused by chopping down forests, draining wetlands, and polluting rivers at unstainable rates.\n",
      "----------------------------------\n",
      "COP27 closes with deal on loss and damage: ‘A step towards justice’, says UN chief | UN News\n",
      "* https://t.co/spmWVUjTva Mr. Shoukry added: “The world is watching, I call on us all to rise to the expectations entrusted to us by the global community, and especially by those who are most vulnerable and yet have contributed the least to climate change.” After missing their Friday night deadline, negotiators were able to agree on a package of decisions that covered some of the most difficult items of the agenda, including a loss and damage facility – with a commitment to set up a financial support structure for the most vulnerable by the next COP in 2023 – as well as the post-2025 finance goal, and the so-called mitigation work programme, that would reduce emissions faster, catalyze impactful action, and secure assurances from key countries that they will take immediate action to raise ambition and keep us on the path towards 1.5°C.\n",
      "* Ahead of action on the texts, COP27 President Sameh Shoukry, who is also the Foreign Minister of Egypt, told delegations that the draft decisions were “a gateway that will scale up implementation and will enable us to transform to future of climate future neutrality and climate resilient development.” “I call upon all of you to view these draft decisions not merely as words on paper but as a collective message to the world that we have heeded the call of our leaders and of current and future generations to set the right pace and direction for the implementation of the Paris agreement and the achievement of its goals.” History was made today at #COP27 in Sharm El-Sheikh as parties agreed to the establishment of a long-awaited loss and damage fund for assisting developing countries that are particularly vulnerable to the adverse effects of climate change.\n",
      "----------------------------------\n",
      "Rights experts decry harassment of activists attending COP27 | UN News\n",
      "* “We call on Egypt to immediately end harassment and intimidation, to ensure the rights to participation, freedom of expression and of peaceful assembly at COP27, and abstain from reprisals against civil society, human rights defenders and indigenous people’s representatives who attended COP27,” they said.\n",
      "* Facebook\n",
      " Twitter\n",
      " Print\n",
      " Email\n",
      "  Independent human rights experts are in dialogue with Egyptian and UN authorities over the harassment of civil society representatives at the COP27 climate change conference, according to a statement issued on Friday.\n"
     ]
    }
   ],
   "source": [
    "for article_url in list(to_summarize)[:5]:\n",
    "    title, text = get_only_text(article_url)\n",
    "    print('----------------------------------')\n",
    "    print(title)\n",
    "    for s in fs.summarize(text, 2):\n",
    "        print('*',s)"
   ]
  },
  {
   "cell_type": "code",
   "execution_count": null,
   "id": "607316c4-d3a9-46ce-acf4-2eb6a0092f62",
   "metadata": {},
   "outputs": [],
   "source": []
  }
 ],
 "metadata": {
  "kernelspec": {
   "display_name": "Python 3 (ipykernel)",
   "language": "python",
   "name": "python3"
  },
  "language_info": {
   "codemirror_mode": {
    "name": "ipython",
    "version": 3
   },
   "file_extension": ".py",
   "mimetype": "text/x-python",
   "name": "python",
   "nbconvert_exporter": "python",
   "pygments_lexer": "ipython3",
   "version": "3.8.10"
  }
 },
 "nbformat": 4,
 "nbformat_minor": 5
}
